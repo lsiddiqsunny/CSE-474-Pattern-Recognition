{
 "cells": [
  {
   "cell_type": "markdown",
   "metadata": {},
   "source": [
    "In the fourth week, we have to go with a input system and face an online on linear classifier.\n",
    "In the first line there are three numbers : Number of features, Number of classes and Number of samples."
   ]
  },
  {
   "cell_type": "code",
   "execution_count": 4,
   "metadata": {},
   "outputs": [],
   "source": [
    "import numpy as np\n",
    "import math\n",
    "import matplotlib.pyplot as plt "
   ]
  },
  {
   "cell_type": "markdown",
   "metadata": {},
   "source": [
    "Function for loading data from file"
   ]
  },
  {
   "cell_type": "code",
   "execution_count": 5,
   "metadata": {},
   "outputs": [],
   "source": [
    "\n",
    "features=0\n",
    "classes=0\n",
    "samples=0\n",
    "\n",
    "def data_loader(filename,isTrainData):\n",
    "    # open data file\n",
    "    file = open(\"Data_files/\"+filename,\"r\")\n",
    "\n",
    "\n",
    "    # initialize\n",
    "    i=0\n",
    "    global features\n",
    "    global classes\n",
    "    global samples\n",
    "\n",
    "\n",
    "    listx = []\n",
    "    listy = []\n",
    "\n",
    "    for line in file:\n",
    "        # for the first line\n",
    "        if(i==0 and isTrainData==1):\n",
    "            fields = line.split()\n",
    "\n",
    "            features = int(fields[0])\n",
    "            classes = int(fields[1])\n",
    "            samples = int(fields[2])\n",
    "        # for the rest of the line\n",
    "        else:\n",
    "            fields = line.split()\n",
    "            templist = []\n",
    "\n",
    "            for j in range(features):\n",
    "                #print(fields[j])\n",
    "                templist.append(float(fields[j]))\n",
    "\n",
    "            listx.append(templist)\n",
    "            listy.append(int(fields[features]))\n",
    "\n",
    "        i = i+1\n",
    "\n",
    "    #print(str(features)+\" \"+str(classes)+\" \"+str(samples))\n",
    "\n",
    "    # convert into numpy array\n",
    "    x = np.array(listx)\n",
    "    y = np.array(listy)\n",
    "\n",
    "    #print(x.shape, y.shape)\n",
    "    \n",
    "    return x,y\n"
   ]
  },
  {
   "cell_type": "markdown",
   "metadata": {},
   "source": [
    "Load train data"
   ]
  },
  {
   "cell_type": "code",
   "execution_count": 6,
   "metadata": {
    "scrolled": true
   },
   "outputs": [
    {
     "name": "stdout",
     "output_type": "stream",
     "text": [
      "(100, 2) (100,)\n"
     ]
    }
   ],
   "source": [
    "train_x,train_y =  data_loader(\"train.txt\",1)\n",
    "print(train_x.shape,train_y.shape)"
   ]
  },
  {
   "cell_type": "markdown",
   "metadata": {},
   "source": [
    "Load test data"
   ]
  },
  {
   "cell_type": "code",
   "execution_count": 7,
   "metadata": {
    "scrolled": false
   },
   "outputs": [
    {
     "name": "stdout",
     "output_type": "stream",
     "text": [
      "(100, 2) (100,)\n"
     ]
    }
   ],
   "source": [
    "test_x,test_y =  data_loader(\"test.txt\",0)\n",
    "print(test_x.shape,test_y.shape)"
   ]
  },
  {
   "cell_type": "markdown",
   "metadata": {},
   "source": [
    "Take random weights and bias and train data by basic parceptron"
   ]
  },
  {
   "cell_type": "code",
   "execution_count": 8,
   "metadata": {},
   "outputs": [
    {
     "name": "stdout",
     "output_type": "stream",
     "text": [
      "[0.54340494 0.27836939]\n",
      "[0.42451759]\n",
      "26\n",
      "[-16.98816506   7.91130939]\n",
      "[32.62451759]\n"
     ]
    }
   ],
   "source": [
    "np.random.seed(100)\n",
    "w = np.random.rand(classes)\n",
    "print(w)\n",
    "bias = np.random.rand(1)\n",
    "print(bias)\n",
    "\n",
    "iteration = 0\n",
    "max_iteration = 500\n",
    "learning_rate = 0.7\n",
    "#loss_rate = []\n",
    "unchanged = 0\n",
    "while True :\n",
    "    if iteration>=max_iteration :\n",
    "        break\n",
    "    iteration = iteration + 1\n",
    "    for i in range(samples):\n",
    "        value = bias[0];\n",
    "        for j in range(features):\n",
    "            value = value + w[j]*train_x[i][j]\n",
    "            \n",
    "        choosedclass = -1\n",
    "        if value>=0:\n",
    "            choosedclass = 1\n",
    "        else :\n",
    "            choosedclass = 2\n",
    "            \n",
    "        if choosedclass == train_y[i]:\n",
    "            unchanged = unchanged +1\n",
    "        else:\n",
    "            unchanged = 0\n",
    "            for j in range(features):\n",
    "                if choosedclass == 1:\n",
    "                    w[j] = w[j]-learning_rate*1*train_x[i][j]\n",
    "                else:\n",
    "                    w[j] = w[j]-learning_rate*-1*train_x[i][j]\n",
    "            if choosedclass == 1:\n",
    "                bias[0] = bias[0]-learning_rate*1*1\n",
    "            else:\n",
    "                bias[0] = bias[0]-learning_rate*-1*1\n",
    "        if unchanged == samples:\n",
    "            break\n",
    "    if unchanged == samples:\n",
    "        break\n",
    "\n",
    "\n",
    "print(iteration)\n",
    "print(w)\n",
    "print(bias)"
   ]
  },
  {
   "cell_type": "markdown",
   "metadata": {},
   "source": [
    "Find accuracy from test data"
   ]
  },
  {
   "cell_type": "code",
   "execution_count": 9,
   "metadata": {},
   "outputs": [
    {
     "name": "stdout",
     "output_type": "stream",
     "text": [
      "Test sample no #49 : [ 8.4629 10.0512]\n",
      "Test sample no #50 : [ 8.8757 10.9795]\n",
      "Test sample no #51 : [1.8762 1.4066]\n",
      "Test sample no #52 : [1.7446 1.7209]\n",
      "Accuracy : 96.0\n"
     ]
    }
   ],
   "source": [
    "correct = 0\n",
    "current_pred  = test_y.copy()\n",
    "for i in range(samples):\n",
    "    value = bias[0];\n",
    "    for j in range(features):\n",
    "        value = value + w[j]*test_x[i][j]\n",
    "    if value>=0:\n",
    "        current_pred[i] = 1\n",
    "    else :\n",
    "        current_pred[i] = 2\n",
    "for i in range(samples):\n",
    "    if current_pred[i] == train_y[i]:\n",
    "        correct = correct + 1\n",
    "    else:\n",
    "        print(\"Test sample no #\"+str(i+1)+\" : \"+str(test_x[i]))\n",
    "\n",
    "print(\"Accuracy : \"+str((correct/samples)*100))"
   ]
  }
 ],
 "metadata": {
  "kernelspec": {
   "display_name": "Python 3",
   "language": "python",
   "name": "python3"
  },
  "language_info": {
   "codemirror_mode": {
    "name": "ipython",
    "version": 3
   },
   "file_extension": ".py",
   "mimetype": "text/x-python",
   "name": "python",
   "nbconvert_exporter": "python",
   "pygments_lexer": "ipython3",
   "version": "3.7.3"
  }
 },
 "nbformat": 4,
 "nbformat_minor": 2
}