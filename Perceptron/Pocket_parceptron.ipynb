{
 "cells": [
  {
   "cell_type": "markdown",
   "metadata": {},
   "source": [
    "In the fourth week, we have to go with a input system and face an online on linear classifier.\n",
    "In the first line there are three numbers : Number of features, Number of classes and Number of samples."
   ]
  },
  {
   "cell_type": "code",
   "execution_count": 1,
   "metadata": {},
   "outputs": [],
   "source": [
    "import numpy as np\n",
    "import math\n",
    "import matplotlib.pyplot as plt "
   ]
  },
  {
   "cell_type": "markdown",
   "metadata": {},
   "source": [
    "Function for loading data from file"
   ]
  },
  {
   "cell_type": "code",
   "execution_count": 2,
   "metadata": {},
   "outputs": [],
   "source": [
    "\n",
    "features=0\n",
    "classes=0\n",
    "samples=0\n",
    "\n",
    "def data_loader(filename,isTrainData):\n",
    "    # open data file\n",
    "    file = open(\"Data_files/Lab#2/\"+filename,\"r\")\n",
    "\n",
    "\n",
    "    # initialize\n",
    "    i=0\n",
    "    global features\n",
    "    global classes\n",
    "    global samples\n",
    "\n",
    "\n",
    "    listx = []\n",
    "    listy = []\n",
    "\n",
    "    for line in file:\n",
    "        # for the first line\n",
    "        if(i==0 and isTrainData==1):\n",
    "            fields = line.split()\n",
    "\n",
    "            features = int(fields[0])\n",
    "            classes = int(fields[1])\n",
    "            samples = int(fields[2])\n",
    "        # for the rest of the line\n",
    "        else:\n",
    "            fields = line.split()\n",
    "            templist = []\n",
    "\n",
    "            for j in range(features):\n",
    "                #print(fields[j])\n",
    "                templist.append(float(fields[j]))\n",
    "\n",
    "            listx.append(templist)\n",
    "            listy.append(int(fields[features]))\n",
    "\n",
    "        i = i+1\n",
    "\n",
    "    #print(str(features)+\" \"+str(classes)+\" \"+str(samples))\n",
    "\n",
    "    # convert into numpy array\n",
    "    x = np.array(listx)\n",
    "    y = np.array(listy)\n",
    "\n",
    "    #print(x.shape, y.shape)\n",
    "    \n",
    "    return x,y\n"
   ]
  },
  {
   "cell_type": "markdown",
   "metadata": {},
   "source": [
    "Load train data"
   ]
  },
  {
   "cell_type": "code",
   "execution_count": 3,
   "metadata": {
    "scrolled": true,
    "tags": []
   },
   "outputs": [
    {
     "output_type": "stream",
     "name": "stdout",
     "text": "(400, 4) (400,)\n"
    }
   ],
   "source": [
    "train_x,train_y =  data_loader(\"trainLinearlyNonSeparable.txt\",1)\n",
    "print(train_x.shape,train_y.shape)"
   ]
  },
  {
   "cell_type": "markdown",
   "metadata": {},
   "source": [
    "Load test data"
   ]
  },
  {
   "cell_type": "code",
   "execution_count": 4,
   "metadata": {
    "scrolled": false,
    "tags": []
   },
   "outputs": [
    {
     "output_type": "stream",
     "name": "stdout",
     "text": "(400, 4) (400,)\n"
    }
   ],
   "source": [
    "test_x,test_y =  data_loader(\"testLinearlyNonSeparable.txt\",0)\n",
    "print(test_x.shape,test_y.shape)"
   ]
  },
  {
   "cell_type": "markdown",
   "metadata": {},
   "source": [
    "Take random weights and bias and train data by basic parceptron"
   ]
  },
  {
   "cell_type": "code",
   "execution_count": 5,
   "metadata": {
    "tags": []
   },
   "outputs": [
    {
     "output_type": "stream",
     "name": "stdout",
     "text": "[0. 0. 0. 0.]\n[0.]\n5000\n[  333.32516417   719.85326663   190.20138818 -1254.87638869]\n[7320.]\n"
    }
   ],
   "source": [
    "np.random.seed(100)\n",
    "\n",
    "w = np.zeros(features)\n",
    "print(w)\n",
    "ws = w.copy()\n",
    "\n",
    "bias = np.zeros(1)\n",
    "print(bias)\n",
    "bs = bias.copy()\n",
    "hs=0\n",
    "\n",
    "iteration = 0\n",
    "max_iteration = 5000\n",
    "learning_rate = 1\n",
    "#loss_rate = []\n",
    "\n",
    "while True :\n",
    "    if iteration>=max_iteration :\n",
    "        break\n",
    "        \n",
    "    iteration = iteration + 1\n",
    "    current_pred  = train_y.copy()\n",
    "    \n",
    "    for i in range(samples):\n",
    "        value = bias[0]\n",
    "        for j in range(features):\n",
    "            value = value + w[j]*train_x[i][j]\n",
    "        #print(value)\n",
    "        if value>=0:\n",
    "            current_pred[i] = 1\n",
    "        else :\n",
    "            current_pred[i] = 2\n",
    "            \n",
    "    correct = 0\n",
    "    for i in range(samples):\n",
    "        if current_pred[i] == train_y[i]:\n",
    "            correct = correct + 1\n",
    "   \n",
    "    if correct > hs :\n",
    "        ws = w.copy()\n",
    "        bs = bias.copy()\n",
    "        hs = correct\n",
    "    if correct == samples:\n",
    "        break    \n",
    "    \n",
    "        \n",
    "    for i in range(samples):\n",
    "        if current_pred[i] == train_y[i]:\n",
    "            continue\n",
    "        else:\n",
    "            #print(current_pred[i])\n",
    "            for j in range(features):\n",
    "                if current_pred[i] == 1:\n",
    "                    w[j] = w[j]-learning_rate*1*train_x[i][j]\n",
    "                else:\n",
    "                    w[j] = w[j]-learning_rate*-1*train_x[i][j]\n",
    "            if current_pred[i] == 1:\n",
    "                bias[0] = bias[0]-learning_rate*1*1\n",
    "            else:\n",
    "                bias[0] = bias[0]-learning_rate*-1*1\n",
    "\n",
    "\n",
    "    \n",
    "\n",
    "w = ws.copy()\n",
    "bias = bs.copy()\n",
    "print(iteration)\n",
    "print(w)\n",
    "print(bias)"
   ]
  },
  {
   "cell_type": "markdown",
   "metadata": {},
   "source": [
    "Find accuracy from test data"
   ]
  },
  {
   "cell_type": "code",
   "execution_count": 6,
   "metadata": {
    "tags": []
   },
   "outputs": [
    {
     "output_type": "stream",
     "name": "stdout",
     "text": "Test sample no #171 [1.60866581 3.86437026 5.29833973 8.01541067] 1 2\nTest sample no #172 [2.03037464 4.63482989 6.94098711 8.53590213] 1 2\nTest sample no #173 [ 3.99237585  8.08090113 12.34340583 16.05956163] 2 1\nTest sample no #174 [ 4.15975357  7.65456696 11.77586291 16.58566104] 2 1\nTest sample no #175 [2.14033335 3.66825436 6.18842916 8.16284464] 1 2\nTest sample no #176 [ 4.3124503   8.08462318 11.48604125 15.18687984] 2 1\nTest sample no #177 [ 4.57722904  8.04661657 11.29743912 15.80765912] 2 1\nTest sample no #178 [ 3.3351582   8.35192192 12.63921605 15.63565217] 2 1\nTest sample no #179 [2.06832699 4.64714954 6.33482759 8.0155349 ] 1 2\nAccuracy : 97.75\n"
    }
   ],
   "source": [
    "correct = 0\n",
    "current_pred  = test_y.copy()\n",
    "for i in range(samples):\n",
    "    value = bias[0]\n",
    "    for j in range(features):\n",
    "        value = value + w[j]*test_x[i][j]\n",
    "    if value>=0:\n",
    "        current_pred[i] = 1\n",
    "    else :\n",
    "        current_pred[i] = 2\n",
    "for i in range(samples):\n",
    "    if current_pred[i] == test_y[i]:\n",
    "        correct = correct + 1\n",
    "    else:\n",
    "        print(\"Test sample no #\"+str(i+1)+\" \"+str(test_x[i])+\" \"+str(current_pred[i])+\" \"+str(test_y[i]))\n",
    "\n",
    "print(\"Accuracy : \"+str((correct/samples)*100))"
   ]
  },
  {
   "cell_type": "code",
   "execution_count": null,
   "metadata": {},
   "outputs": [],
   "source": []
  }
 ],
 "metadata": {
  "kernelspec": {
   "display_name": "Python 3",
   "language": "python",
   "name": "python3"
  },
  "language_info": {
   "codemirror_mode": {
    "name": "ipython",
    "version": 3
   },
   "file_extension": ".py",
   "mimetype": "text/x-python",
   "name": "python",
   "nbconvert_exporter": "python",
   "pygments_lexer": "ipython3",
   "version": "3.7.3-final"
  }
 },
 "nbformat": 4,
 "nbformat_minor": 2
}