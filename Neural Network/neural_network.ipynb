{
 "metadata": {
  "language_info": {
   "codemirror_mode": {
    "name": "ipython",
    "version": 3
   },
   "file_extension": ".py",
   "mimetype": "text/x-python",
   "name": "python",
   "nbconvert_exporter": "python",
   "pygments_lexer": "ipython3",
   "version": "3.7.3-final"
  },
  "orig_nbformat": 2,
  "kernelspec": {
   "name": "Python 3.7.3 64-bit ('deep-learning': conda)",
   "display_name": "Python 3.7.3 64-bit ('deep-learning': conda)",
   "metadata": {
    "interpreter": {
     "hash": "4efef21ae8d3e526766593316eddf58c065dc2704451dcdc2461b441e246bb8c"
    }
   }
  }
 },
 "nbformat": 4,
 "nbformat_minor": 2,
 "cells": [
  {
   "cell_type": "code",
   "execution_count": 97,
   "metadata": {
    "tags": []
   },
   "outputs": [],
   "source": [
    "import numpy as np"
   ]
  },
  {
   "cell_type": "code",
   "execution_count": 98,
   "metadata": {},
   "outputs": [],
   "source": [
    "\n",
    "features=0\n",
    "classes=0\n",
    "samples=0\n",
    "\n",
    "def modify_train_y(classes,train_y):\n",
    "    new_train_y = []\n",
    "    for x in train_y:\n",
    "        current_y = []\n",
    "        for i in range(classes):\n",
    "            current_y.append(0)\n",
    "        current_y[int(x)-1]=1\n",
    "        new_train_y.append(current_y)\n",
    "    return np.array(new_train_y)\n",
    "\n",
    "\n",
    "def data_loader(filename,isTrainData):\n",
    "    # open data file\n",
    "    file = open(filename,\"r\")\n",
    "\n",
    "\n",
    "    # initialize\n",
    "    i=0\n",
    "    global features\n",
    "    global classes\n",
    "    global samples\n",
    "\n",
    "\n",
    "    listx = []\n",
    "    listy = []\n",
    "\n",
    "    for line in file:\n",
    "\n",
    "        fields = line.split()\n",
    "        templist = []\n",
    "        features = len(fields)-1\n",
    "        for j in range(features):\n",
    "                #print(fields[j])\n",
    "            templist.append(float(fields[j]))\n",
    "\n",
    "        listx.append(templist)\n",
    "        listy.append(int(fields[features]))\n",
    "\n",
    "\n",
    "    if isTrainData:\n",
    "        samples = len(listx)\n",
    "    if isTrainData:\n",
    "        classes = len(set(listy))\n",
    "    # convert into numpy array\n",
    "    x = np.array(listx)\n",
    "    y = np.array(listy)\n",
    "    \n",
    "    #print(x.shape, y.shape)\n",
    "    \n",
    "    return x,modify_train_y(classes,y)\n"
   ]
  },
  {
   "cell_type": "code",
   "execution_count": 99,
   "metadata": {
    "tags": []
   },
   "outputs": [
    {
     "output_type": "stream",
     "name": "stdout",
     "text": "Features:  4  Classes:  4  Samples:  500\n(500, 4)\n(500, 4)\n"
    }
   ],
   "source": [
    "train_x,train_y =  data_loader(\"trainNN.txt\",1)\n",
    "print(\"Features: \",str(features), \" Classes: \",str(classes),\" Samples: \",str(samples))\n",
    "print(train_x.shape)\n",
    "print(train_y.shape)"
   ]
  },
  {
   "cell_type": "code",
   "execution_count": 100,
   "metadata": {},
   "outputs": [],
   "source": [
    "test_x,test_y =  data_loader(\"trainNN.txt\",0)\n"
   ]
  },
  {
   "cell_type": "code",
   "execution_count": 101,
   "metadata": {
    "tags": []
   },
   "outputs": [],
   "source": [
    "def sigmoid(z):\n",
    "    return (1.0/(1.0+np.exp(-z)))\n",
    "def derivative_sigmoid(z):\n",
    "    return sigmoid(z)*(1-sigmoid(z))\n",
    "def error(target,output):\n",
    "    return ((target-output)*(target-output).T)/2.0\n",
    "def derivative_error(target,output):\n",
    "    return target-output\n",
    "\n",
    "\n",
    "np.random.seed(1)\n",
    "learning_rate = 0.05"
   ]
  },
  {
   "cell_type": "code",
   "execution_count": 160,
   "metadata": {},
   "outputs": [],
   "source": [
    "class Layer:\n",
    "    def __init__(self,in_nodes,out_nodes):\n",
    "        self.in_nodes = in_nodes\n",
    "        self.out_nodes = out_nodes\n",
    "        self.weight = np.random.randn(in_nodes,out_nodes)*.01\n",
    "        self.bias = np.zeros((1,out_nodes))*.01\n",
    "        self.input_l = None\n",
    "        self.input_l_1 = None\n",
    "        self.output = None\n",
    "        print('weight: ',self.weight.shape)\n",
    "        print('bias: ',self.bias.shape)\n",
    "\n",
    "\n",
    "    def forward(self,input):\n",
    "        self.input_l_1 = input\n",
    "        self.input_l = np.dot(self.input_l_1,self.weight)+self.bias\n",
    "        self.output = sigmoid(self.input_l)\n",
    "        return self.output\n",
    "\n"
   ]
  },
  {
   "cell_type": "code",
   "execution_count": 162,
   "metadata": {
    "tags": []
   },
   "outputs": [
    {
     "output_type": "stream",
     "name": "stdout",
     "text": "weight:  (4, 8)\nbias:  (1, 8)\nweight:  (8, 2)\nbias:  (1, 2)\nweight:  (2, 4)\nbias:  (1, 4)\n"
    },
    {
     "output_type": "execute_result",
     "data": {
      "text/plain": "array([[0.50138448, 0.50205172, 0.49973431, 0.4985907 ],\n       [0.50138238, 0.50204815, 0.49973293, 0.49859188],\n       [0.50137854, 0.50204171, 0.49973084, 0.49859428],\n       ...,\n       [0.50138462, 0.50205194, 0.49973432, 0.49859058],\n       [0.50138248, 0.5020483 , 0.49973292, 0.49859178],\n       [0.50137841, 0.50204149, 0.4997308 , 0.49859438]])"
     },
     "metadata": {},
     "execution_count": 162
    }
   ],
   "source": [
    "l1 = Layer(features,8)\n",
    "l2 = Layer(8,2)\n",
    "l3 = Layer(2,classes)\n",
    "l3.forward(l2.forward(l1.forward(train_x)))"
   ]
  },
  {
   "cell_type": "code",
   "execution_count": null,
   "metadata": {},
   "outputs": [],
   "source": []
  }
 ]
}