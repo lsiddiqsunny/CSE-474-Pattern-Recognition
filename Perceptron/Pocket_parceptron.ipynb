{
 "cells": [
  {
   "cell_type": "markdown",
   "metadata": {},
   "source": [
    "In the fourth week, we have to go with a input system and face an online on linear classifier.\n",
    "In the first line there are three numbers : Number of features, Number of classes and Number of samples."
   ]
  },
  {
   "cell_type": "code",
   "execution_count": 1,
   "metadata": {},
   "outputs": [],
   "source": [
    "import numpy as np\n",
    "import math\n",
    "import matplotlib.pyplot as plt "
   ]
  },
  {
   "cell_type": "markdown",
   "metadata": {},
   "source": [
    "Function for loading data from file"
   ]
  },
  {
   "cell_type": "code",
   "execution_count": 2,
   "metadata": {},
   "outputs": [],
   "source": [
    "\n",
    "features=0\n",
    "classes=0\n",
    "samples=0\n",
    "\n",
    "def data_loader(filename,isTrainData):\n",
    "    # open data file\n",
    "    file = open(\"Data_files/Lab#2/\"+filename,\"r\")\n",
    "\n",
    "\n",
    "    # initialize\n",
    "    i=0\n",
    "    global features\n",
    "    global classes\n",
    "    global samples\n",
    "\n",
    "\n",
    "    listx = []\n",
    "    listy = []\n",
    "\n",
    "    for line in file:\n",
    "        # for the first line\n",
    "        if(i==0 and isTrainData==1):\n",
    "            fields = line.split()\n",
    "\n",
    "            features = int(fields[0])\n",
    "            classes = int(fields[1])\n",
    "            samples = int(fields[2])\n",
    "        # for the rest of the line\n",
    "        else:\n",
    "            fields = line.split()\n",
    "            templist = []\n",
    "\n",
    "            for j in range(features):\n",
    "                #print(fields[j])\n",
    "                templist.append(float(fields[j]))\n",
    "\n",
    "            listx.append(templist)\n",
    "            listy.append(int(fields[features]))\n",
    "\n",
    "        i = i+1\n",
    "\n",
    "    #print(str(features)+\" \"+str(classes)+\" \"+str(samples))\n",
    "\n",
    "    # convert into numpy array\n",
    "    x = np.array(listx)\n",
    "    y = np.array(listy)\n",
    "\n",
    "    #print(x.shape, y.shape)\n",
    "    \n",
    "    return x,y\n"
   ]
  },
  {
   "cell_type": "markdown",
   "metadata": {},
   "source": [
    "Load train data"
   ]
  },
  {
   "cell_type": "code",
   "execution_count": 3,
   "metadata": {
    "scrolled": true,
    "tags": []
   },
   "outputs": [
    {
     "output_type": "stream",
     "name": "stdout",
     "text": "(400, 4) (400,)\n"
    }
   ],
   "source": [
    "train_x,train_y =  data_loader(\"trainLinearlyNonSeparable.txt\",1)\n",
    "print(train_x.shape,train_y.shape)"
   ]
  },
  {
   "cell_type": "markdown",
   "metadata": {},
   "source": [
    "Load test data"
   ]
  },
  {
   "cell_type": "code",
   "execution_count": 4,
   "metadata": {
    "scrolled": false,
    "tags": []
   },
   "outputs": [
    {
     "output_type": "stream",
     "name": "stdout",
     "text": "(400, 4) (400,)\n"
    }
   ],
   "source": [
    "test_x,test_y =  data_loader(\"testLinearlyNonSeparable.txt\",0)\n",
    "print(test_x.shape,test_y.shape)"
   ]
  },
  {
   "cell_type": "markdown",
   "metadata": {},
   "source": [
    "Take random weights and bias and train data by basic parceptron"
   ]
  },
  {
   "cell_type": "code",
   "execution_count": 5,
   "metadata": {
    "tags": []
   },
   "outputs": [
    {
     "output_type": "stream",
     "name": "stdout",
     "text": "[0.54340494 0.27836939 0.42451759 0.84477613]\n[0.00471886]\n500\n[0.54340494 0.27836939 0.42451759 0.84477613]\n[0.00471886]\n"
    }
   ],
   "source": [
    "np.random.seed(100)\n",
    "\n",
    "w = np.random.rand(features)\n",
    "print(w)\n",
    "ws = w.copy()\n",
    "\n",
    "bias = np.random.rand(1)\n",
    "print(bias)\n",
    "bs = bias.copy()\n",
    "hs=0\n",
    "\n",
    "iteration = 0\n",
    "max_iteration = 500\n",
    "learning_rate = 0.7\n",
    "#loss_rate = []\n",
    "\n",
    "while True :\n",
    "    if iteration>=max_iteration :\n",
    "        break\n",
    "        \n",
    "    iteration = iteration + 1\n",
    "    current_pred  = train_y.copy()\n",
    "    \n",
    "    for i in range(samples):\n",
    "        value = bias[0]\n",
    "        for j in range(features):\n",
    "            value = value + w[j]*train_x[i][j]\n",
    "        #print(value)\n",
    "        if value>=0:\n",
    "            current_pred[i] = 1\n",
    "        else :\n",
    "            current_pred[i] = 2\n",
    "            \n",
    "    correct = 0\n",
    "    for i in range(samples):\n",
    "        if current_pred[i] == train_y[i]:\n",
    "            correct = correct + 1\n",
    "   \n",
    "    if correct > hs :\n",
    "        ws = w.copy()\n",
    "        bs = bias.copy()\n",
    "        hs = correct\n",
    "    if correct == samples:\n",
    "        break    \n",
    "    \n",
    "        \n",
    "    for i in range(samples):\n",
    "        if current_pred[i] == train_y[i]:\n",
    "            continue\n",
    "        else:\n",
    "            #print(current_pred[i])\n",
    "            for j in range(features):\n",
    "                if current_pred[i] == 1:\n",
    "                    w[j] = w[j]-learning_rate*-1*train_x[i][j]\n",
    "                else:\n",
    "                    w[j] = w[j]-learning_rate*1*train_x[i][j]\n",
    "            if current_pred[i] == 1:\n",
    "                bias[0] = bias[0]-learning_rate*-1*1\n",
    "            else:\n",
    "                bias[0] = bias[0]-learning_rate*1*1\n",
    "\n",
    "\n",
    "    \n",
    "\n",
    "w = ws.copy()\n",
    "bias = bs.copy()\n",
    "print(iteration)\n",
    "print(w)\n",
    "print(bias)"
   ]
  },
  {
   "cell_type": "markdown",
   "metadata": {},
   "source": [
    "Find accuracy from test data"
   ]
  },
  {
   "cell_type": "code",
   "execution_count": 6,
   "metadata": {
    "tags": []
   },
   "outputs": [
    {
     "output_type": "stream",
     "name": "stdout",
     "text": "Test sample no #2 : [ 2.98944613  8.19344225 13.43187517 16.15699516]\nTest sample no #5 : [ 2.91319103  8.72318934 12.39058678 15.75661737]\nTest sample no #6 : [ 5.43397378  7.3157451  11.34395986 16.37929065]\nTest sample no #9 : [ 4.47422344  8.1211111  12.05014164 15.65192323]\nTest sample no #10 : [ 3.29563893  7.90995571 11.54131506 15.28678895]\nTest sample no #11 : [2.64255128 4.20685304 6.92078532 8.59237738]\nTest sample no #12 : [ 3.62090565  7.32662118 11.42612177 15.62094288]\nTest sample no #13 : [1.21559087 4.03003188 5.44529686 7.31576858]\nTest sample no #19 : [ 4.45295403  8.22841997 12.16549829 16.9332366 ]\nTest sample no #23 : [ 4.05752189  7.17188461 12.08395242 16.08388895]\nTest sample no #24 : [ 4.0855064   8.27424653 11.24296808 15.24497709]\nTest sample no #28 : [2.30910517 3.52978264 6.20564743 7.90608131]\nTest sample no #31 : [1.91293053 4.21906644 6.09826201 7.84933041]\nTest sample no #32 : [1.34780487 3.7026161  5.66813078 7.69390057]\nTest sample no #40 : [2.33200183 3.34659082 6.03560741 8.20158032]\nTest sample no #41 : [1.35431657 3.77160188 6.47433526 9.05717391]\nTest sample no #44 : [ 4.29683613  7.69325268 11.62415526 16.54291826]\nTest sample no #45 : [ 2.90402734  8.4445581  11.63873774 16.89315961]\nTest sample no #48 : [ 4.33214668  7.89734881 11.98521456 15.97547951]\nTest sample no #50 : [ 3.99798925  7.45872768 11.28395591 16.32709655]\nTest sample no #52 : [ 3.94126243  8.64602188 12.26869548 16.09072075]\nTest sample no #53 : [ 4.56072191  8.84409975 12.15204451 15.67157323]\nTest sample no #54 : [2.73822654 4.08774262 6.35369463 8.5113334 ]\nTest sample no #55 : [1.74566764 3.34134161 5.86957833 8.8073568 ]\nTest sample no #56 : [ 3.84284957  7.90941576 11.5484474  16.47099434]\nTest sample no #57 : [1.90854557 3.51748628 5.95407576 7.06032152]\nTest sample no #61 : [ 3.92407577  7.99432662 12.4994563  16.02418811]\nTest sample no #62 : [1.68938709 3.96577068 5.63789146 8.08971583]\nTest sample no #65 : [ 3.84543024  8.72012874 12.38367773 16.63901456]\nTest sample no #67 : [ 3.81768421  7.30668464 11.7254918  16.19331101]\nTest sample no #68 : [ 4.42770931  7.61157276 11.00345425 16.24493053]\nTest sample no #69 : [2.41686239 3.72079731 6.4343475  7.88204274]\nTest sample no #75 : [ 3.53750245  7.48955925 12.11268371 16.62939727]\nTest sample no #78 : [2.48648662 4.52597945 6.37094857 7.2954893 ]\nTest sample no #79 : [2.5828685  2.63551212 5.82622862 8.30080705]\nTest sample no #80 : [2.09593865 4.24503764 5.48562187 7.43704741]\nTest sample no #84 : [ 3.61461263  8.76422802 11.92939311 15.14923694]\nTest sample no #85 : [1.19357157 3.73053205 6.14300263 6.85674025]\nTest sample no #88 : [2.03794103 4.45061942 5.454512   6.77186286]\nTest sample no #92 : [ 4.51012153  6.99584902 12.02192197 16.27787789]\nTest sample no #96 : [ 4.67032694  8.60924891 12.78938266 15.67941373]\nTest sample no #97 : [2.138304   4.98587798 6.28667064 7.49451742]\nTest sample no #101 : [ 3.91937924  8.0534956  11.69474162 16.52487735]\nTest sample no #102 : [1.55361635 3.08019867 6.20316741 8.23912111]\nTest sample no #106 : [1.99603843 4.67403356 6.35972859 7.38535688]\nTest sample no #110 : [1.07845114 4.63441217 5.42995025 7.33592281]\nTest sample no #113 : [2.18912095 3.63794293 6.30629549 7.53792842]\nTest sample no #114 : [ 3.33681295  8.02297988 12.14303402 15.35725465]\nTest sample no #115 : [2.83583743 3.81358497 6.41771887 7.95487829]\nTest sample no #116 : [ 2.97692375  7.12035253 12.55907644 15.49470758]\nTest sample no #118 : [ 3.61927115  8.55804136 11.57714327 15.05797096]\nTest sample no #123 : [ 4.02978442  7.59192012 12.22347919 16.40154339]\nTest sample no #124 : [2.78348599 4.52642354 6.37703202 8.28904295]\nTest sample no #125 : [ 4.19121212  8.07495824 12.39032619 15.71935281]\nTest sample no #127 : [2.0916885  4.89637728 4.79436652 8.06001155]\nTest sample no #129 : [1.90049105 3.7778105  6.19171065 7.74002022]\nTest sample no #130 : [ 3.9609869   8.47615151 11.42516813 16.20172521]\nTest sample no #134 : [2.07239468 4.21949785 6.94382902 7.37841412]\nTest sample no #135 : [ 4.68011011  8.09833444 11.66329548 15.61653981]\nTest sample no #136 : [ 3.6982197   7.41131896 11.83449336 15.66354158]\nTest sample no #137 : [2.79878144 4.59625443 6.00015159 8.1027325 ]\nTest sample no #138 : [2.22736641 4.53194997 6.41132469 6.65951706]\nTest sample no #142 : [1.76367431 4.37820396 5.72844623 7.45385433]\nTest sample no #145 : [ 4.67148059  8.685482   10.80430403 15.69839155]\nTest sample no #146 : [2.04968155 4.7195863  6.19564587 8.06926403]\nTest sample no #147 : [ 3.46060121  8.12162345 12.36159424 16.88159834]\nTest sample no #149 : [ 4.3073342   8.05647837 11.50961566 15.93068008]\nTest sample no #150 : [ 4.19841044  7.6245916  11.97451174 15.19861774]\nTest sample no #151 : [ 3.87082103  7.32157593 12.36624354 15.89711458]\nTest sample no #152 : [2.64365411 3.56044131 6.8423537  7.82276484]\nTest sample no #153 : [1.62646759 3.62558924 5.64807986 7.92970906]\nTest sample no #154 : [ 3.93870721  6.87764415 11.76156086 15.81774465]\nTest sample no #157 : [ 3.45269169  7.61326211 12.01033754 16.44430562]\nTest sample no #158 : [ 3.72627206  7.95879704 12.22175179 16.69731598]\nTest sample no #160 : [1.70768328 3.85577738 5.73389903 7.50387096]\nTest sample no #162 : [1.76047078 4.8951299  5.81980938 8.43294971]\nTest sample no #164 : [ 3.9489762   6.96048262 12.42967059 15.81750634]\nTest sample no #167 : [2.6894244  4.05616076 5.4120762  8.29177341]\nTest sample no #169 : [ 4.28499004  8.79524785 11.54999715 16.30730733]\nTest sample no #170 : [1.96375779 3.64484326 6.16418755 7.49684536]\nTest sample no #172 : [2.03037464 4.63482989 6.94098711 8.53590213]\nTest sample no #173 : [ 3.99237585  8.08090113 12.34340583 16.05956163]\nTest sample no #175 : [2.14033335 3.66825436 6.18842916 8.16284464]\nTest sample no #176 : [ 4.3124503   8.08462318 11.48604125 15.18687984]\nTest sample no #180 : [ 3.88706825  8.27605161 11.94284136 16.21712555]\nTest sample no #182 : [ 4.27492645  7.55234463 12.1101867  15.90228698]\nTest sample no #184 : [ 3.84834442  7.66033975 12.04433915 15.88374822]\nTest sample no #186 : [ 4.55625896  7.52320332 12.37251257 15.56986373]\nTest sample no #187 : [ 4.175405    7.56725759 11.93726141 16.38288438]\nTest sample no #188 : [ 3.80972618  7.77099342 12.44079517 16.3749845 ]\nTest sample no #191 : [2.86414488 4.27563576 5.82257032 8.59399271]\nTest sample no #192 : [1.9500303  3.51124093 6.57343349 8.06771553]\nTest sample no #193 : [ 3.866799    7.88716426 11.55706684 16.57533443]\nTest sample no #194 : [1.14029511 4.34942855 6.27670021 8.1367794 ]\nTest sample no #195 : [ 4.35085752  7.12571696 12.37439162 15.73154689]\nTest sample no #196 : [2.38166833 2.81118369 6.27526732 6.92080415]\nTest sample no #199 : [ 4.32305705  7.67170763 11.88754358 15.14933309]\nTest sample no #200 : [1.9286242  3.85742653 6.69592633 8.06173872]\nTest sample no #201 : [2.2495876  4.03516058 6.1126066  7.69976126]\nTest sample no #204 : [1.96915056 3.59758772 5.66039926 8.51696421]\nTest sample no #210 : [1.98543232 3.48137803 6.06078772 7.67115866]\nTest sample no #211 : [1.85443679 3.35379278 5.80432322 7.70114916]\nTest sample no #214 : [ 3.68155429  8.4557409  12.1772186  16.29963821]\nTest sample no #215 : [ 4.66308591  7.67901398 11.18910711 16.22456848]\nTest sample no #216 : [ 3.49298112  7.12720903 11.89247672 16.76759507]\nTest sample no #217 : [1.3571588  3.92182543 6.00706887 7.37558266]\nTest sample no #220 : [ 4.49484133  7.79010677 12.06052119 15.48468835]\nTest sample no #222 : [2.33990201 4.23591025 5.68222376 7.01329362]\nTest sample no #225 : [ 4.29710602  8.89353507 11.96113478 16.47982281]\nTest sample no #226 : [2.26337937 2.88901939 5.42824544 7.50795159]\nTest sample no #227 : [ 4.57550642  8.09573027 11.091953   15.89613418]\nTest sample no #231 : [ 3.58566618  8.61003124 11.54033325 15.84124854]\nTest sample no #232 : [ 3.38587605  8.4328512  12.57303655 15.51604918]\nTest sample no #233 : [ 5.15139878  7.85818983 11.8873585  16.53214052]\nTest sample no #235 : [2.19178512 4.3729198  5.88492646 8.01306787]\nTest sample no #238 : [ 3.53925239  8.46355669 12.8513296  15.80931288]\nTest sample no #239 : [2.25777737 4.07496509 5.75828455 7.84072998]\nTest sample no #241 : [ 4.2430978   8.72822198 11.81245755 15.65745084]\nTest sample no #243 : [ 4.39747476  8.42903135 12.25592086 15.70498986]\nTest sample no #244 : [ 3.45245221  8.04650062 12.24553101 15.78674623]\nTest sample no #245 : [2.61275742 4.38510261 5.93436986 8.23553716]\nTest sample no #246 : [2.18211999 3.53351366 5.46918865 8.70841052]\nTest sample no #247 : [ 4.16661647  8.03759185 11.84120567 15.4473556 ]\nTest sample no #248 : [ 4.26077796  7.86382769 11.53019627 16.93760952]\nTest sample no #249 : [ 4.13791715  8.17436116 11.56232443 16.29758169]\nTest sample no #253 : [ 4.82828749  8.33075227 11.11727375 15.89016056]\nTest sample no #254 : [1.85038619 4.53957462 6.04669091 7.30019073]\nTest sample no #255 : [ 3.91856707  8.77639983 11.91577904 15.54459192]\nTest sample no #256 : [2.16935067 4.8284739  6.1519076  7.38152294]\nTest sample no #258 : [1.71631703 3.70728343 5.53327761 7.74231777]\nTest sample no #260 : [2.15715432 3.99752612 5.19363232 7.50095585]\nTest sample no #261 : [ 4.4588984   8.10796271 12.00973924 16.14943809]\nTest sample no #263 : [2.32965152 4.52286001 6.37073422 8.71252377]\nTest sample no #264 : [1.98027233 3.60617716 5.97731372 7.67060516]\nTest sample no #269 : [1.15146953 3.70150542 6.08561875 8.04179009]\nTest sample no #271 : [1.36838124 3.76768001 6.54437686 7.77344157]\nTest sample no #275 : [ 3.92778487  7.43472635 11.22452392 16.36287958]\nTest sample no #276 : [1.12406242 4.12326938 5.72889027 7.91308817]\nTest sample no #277 : [1.79523324 3.8739797  6.82137184 8.4436377 ]\nTest sample no #279 : [ 4.25617975  6.79405872 12.81580723 16.14245234]\nTest sample no #281 : [2.35541848 3.19455986 5.63843997 8.08797384]\nTest sample no #282 : [1.93669184 3.96859395 6.92495151 7.80090182]\nTest sample no #284 : [ 3.40603276  7.80312347 12.18102739 15.91157124]\nTest sample no #285 : [1.80520771 2.51624435 6.3764042  7.80635029]\nTest sample no #286 : [2.2626572  4.24525787 6.20787679 8.59285372]\nTest sample no #287 : [2.5454942  4.40333553 4.96158565 7.6547179 ]\nTest sample no #288 : [2.43223862 4.1772296  5.63960523 8.27181181]\nTest sample no #289 : [2.09376452 3.71674601 6.16692055 7.78264656]\nTest sample no #293 : [ 3.8351444   7.53135842 12.04389924 16.13678668]\nTest sample no #294 : [ 4.3113731   8.80845936 11.83103574 15.38822846]\nTest sample no #295 : [ 3.96782912  8.41618852 11.33022938 15.80054961]\nTest sample no #296 : [ 3.07907983  8.6349779  12.18620931 16.74627812]\nTest sample no #298 : [ 3.83401305  8.20231277 12.80764979 17.80893405]\nTest sample no #301 : [1.67534509 4.33798063 5.70602392 8.21425023]\nTest sample no #302 : [2.22533118 3.77841278 5.40979647 7.58060717]\nTest sample no #303 : [2.59010442 4.16878732 5.57859702 8.48421887]\nTest sample no #306 : [1.11363398 4.11571687 5.91262659 7.65579559]\nTest sample no #308 : [ 2.99771957  8.84098751 11.1936695  15.9909867 ]\nTest sample no #310 : [ 4.13737534  8.9179617  11.24068739 15.5475465 ]\nTest sample no #315 : [ 3.76078884  8.58057718 12.15099032 15.16450597]\nTest sample no #317 : [ 3.47479483  8.15229939 11.29005513 16.40623301]\nTest sample no #321 : [ 2.64292595  7.87285077 12.37552583 15.81774614]\nTest sample no #323 : [1.71167836 4.62203676 6.4757039  7.53254968]\nTest sample no #326 : [ 4.02446533  7.74440848 12.23946253 17.40732613]\nTest sample no #327 : [ 4.41667754  8.44356907 12.03067429 15.70540204]\nTest sample no #328 : [1.53627788 3.07510881 5.92038425 7.08160719]\nTest sample no #329 : [ 4.2216667   8.41929383 11.65060232 15.82398539]\nTest sample no #330 : [2.04170092 4.47834562 5.51052786 8.11949611]\nTest sample no #331 : [1.80188592 2.84127186 5.07988615 7.08364703]\nTest sample no #332 : [ 4.04908795  8.56052479 11.49412405 15.49848835]\nTest sample no #334 : [2.01361916 3.50022798 5.88899698 7.97267468]\nTest sample no #336 : [ 4.2191288   7.26589949 11.0382803  16.37775376]\nTest sample no #337 : [1.48664952 4.26488409 6.22685777 8.47298788]\nTest sample no #338 : [1.8182516  4.30091936 6.16273034 9.1125122 ]\nTest sample no #340 : [2.37910255 3.89825548 5.61702453 8.82694542]\nTest sample no #342 : [ 3.81558745  8.53988252 12.08606949 16.12421177]\nTest sample no #343 : [2.48364342 3.6583354  6.03965717 8.18804558]\nTest sample no #344 : [2.38197644 4.94692075 6.22772986 7.6721427 ]\nTest sample no #345 : [ 3.87259713  7.63086236 12.39995465 16.03141727]\nTest sample no #347 : [ 3.98462396  7.93784691 12.24648232 16.48926508]\nTest sample no #348 : [1.73300426 3.16372633 6.43044412 7.2203106 ]\nTest sample no #349 : [2.06873149 4.31575836 6.06212024 8.53567418]\nTest sample no #351 : [2.53945295 3.99304898 6.20796233 8.01788821]\nTest sample no #352 : [ 4.98423879  8.38937082 11.99463916 16.90286472]\nTest sample no #353 : [ 3.99731939  8.18859361 11.86202866 16.09194968]\nTest sample no #354 : [1.52232297 4.68999808 6.46137738 8.41057758]\nTest sample no #355 : [ 4.34258388  8.31655236 12.27063482 15.67912919]\nTest sample no #357 : [1.76797181 4.28936536 7.66228132 7.14979276]\nTest sample no #358 : [ 3.09166612  7.66844538 11.85569788 15.29734494]\nTest sample no #359 : [ 3.00989979  7.23877664 12.58435111 15.40358598]\nTest sample no #361 : [ 3.76496409  6.84433336 12.20315857 15.75241055]\nTest sample no #362 : [1.98092593 5.4281442  5.51989538 8.82812621]\nTest sample no #366 : [2.40365849 3.36628972 5.45732717 8.25804413]\nTest sample no #369 : [1.73776613 4.04172574 6.86295257 6.91617203]\nTest sample no #373 : [2.16380113 3.90749194 5.64424987 7.69233243]\nTest sample no #375 : [ 4.12201245  7.39713539 11.57754335 14.91532804]\nTest sample no #380 : [ 4.49692757  8.19283828 11.18485924 16.55721385]\nTest sample no #381 : [1.9314107  3.47917305 6.30617211 8.22951903]\nTest sample no #384 : [ 4.15169648  7.7240606  11.84255141 15.98657089]\nTest sample no #385 : [1.74700399 4.73786617 5.55262297 7.46376068]\nTest sample no #388 : [2.35266462 4.31332253 6.14163169 7.2588151 ]\nTest sample no #392 : [1.13466692 4.36926081 5.0233384  8.87662239]\nTest sample no #394 : [1.99009503 3.30024037 4.83801648 7.88033534]\nTest sample no #395 : [ 3.92826799  8.7341234  11.78658442 16.13679691]\nTest sample no #396 : [2.30856983 3.29047827 6.36792365 7.93054646]\nTest sample no #397 : [1.39531729 3.93828224 5.75393175 9.11928332]\nTest sample no #398 : [ 3.85142016  8.33873195 12.58459362 16.69373614]\nTest sample no #400 : [2.42824851 4.14921044 5.45912376 8.91379464]\nAccuracy : 48.0\n"
    }
   ],
   "source": [
    "correct = 0\n",
    "current_pred  = test_y.copy()\n",
    "for i in range(samples):\n",
    "    value = bias[0]\n",
    "    for j in range(features):\n",
    "        value = value + w[j]*test_x[i][j]\n",
    "    if value>=0:\n",
    "        current_pred[i] = 1\n",
    "    else :\n",
    "        current_pred[i] = 2\n",
    "for i in range(samples):\n",
    "    if current_pred[i] == train_y[i]:\n",
    "        correct = correct + 1\n",
    "    else:\n",
    "        print(\"Test sample no #\"+str(i+1)+\" : \"+str(test_x[i]))\n",
    "\n",
    "print(\"Accuracy : \"+str((correct/samples)*100))"
   ]
  }
 ],
 "metadata": {
  "kernelspec": {
   "display_name": "Python 3",
   "language": "python",
   "name": "python3"
  },
  "language_info": {
   "codemirror_mode": {
    "name": "ipython",
    "version": 3
   },
   "file_extension": ".py",
   "mimetype": "text/x-python",
   "name": "python",
   "nbconvert_exporter": "python",
   "pygments_lexer": "ipython3",
   "version": "3.7.3-final"
  }
 },
 "nbformat": 4,
 "nbformat_minor": 2
}