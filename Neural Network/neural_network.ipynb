{
 "metadata": {
  "language_info": {
   "codemirror_mode": {
    "name": "ipython",
    "version": 3
   },
   "file_extension": ".py",
   "mimetype": "text/x-python",
   "name": "python",
   "nbconvert_exporter": "python",
   "pygments_lexer": "ipython3",
   "version": "3.7.3-final"
  },
  "orig_nbformat": 2,
  "kernelspec": {
   "name": "Python 3.7.3 64-bit ('deep-learning': conda)",
   "display_name": "Python 3.7.3 64-bit ('deep-learning': conda)",
   "metadata": {
    "interpreter": {
     "hash": "4efef21ae8d3e526766593316eddf58c065dc2704451dcdc2461b441e246bb8c"
    }
   }
  }
 },
 "nbformat": 4,
 "nbformat_minor": 2,
 "cells": [
  {
   "cell_type": "code",
   "execution_count": 1,
   "metadata": {
    "tags": []
   },
   "outputs": [],
   "source": [
    "import numpy as np\n",
    "np.random.seed(1)"
   ]
  },
  {
   "cell_type": "code",
   "execution_count": 2,
   "metadata": {},
   "outputs": [],
   "source": [
    "\n",
    "features=0\n",
    "classes=0\n",
    "samples=0\n",
    "def modify_train_y(classes,train_y):\n",
    "    new_train_y = []\n",
    "    for x in train_y:\n",
    "        current_y = []\n",
    "        for i in range(classes):\n",
    "            current_y.append(0)\n",
    "        current_y[int(x)-1]=1\n",
    "        new_train_y.append(current_y)\n",
    "    return np.array(new_train_y).T\n",
    "\n",
    "\n",
    "def data_loader(filename,isTrainData):\n",
    "    # open data file\n",
    "    file = open('./Dataset/'+filename,\"r\")\n",
    "\n",
    "\n",
    "    # initialize\n",
    "    i=0\n",
    "    global features\n",
    "    global classes\n",
    "    global samples\n",
    "\n",
    "\n",
    "    listx = []\n",
    "    listy = []\n",
    "\n",
    "    for line in file:\n",
    "\n",
    "        fields = line.split()\n",
    "        templist = []\n",
    "        features = len(fields)-1\n",
    "        for j in range(features):\n",
    "                #print(fields[j])\n",
    "            templist.append(float(fields[j]))\n",
    "\n",
    "        listx.append(templist)\n",
    "        listy.append(int(fields[features]))\n",
    "\n",
    "\n",
    "    if isTrainData:\n",
    "        samples = len(listx)\n",
    "        classes = len(set(listy))\n",
    "        \n",
    "    # convert into numpy array\n",
    "    x = np.array(listx)\n",
    "    y = np.array(listy)\n",
    "    \n",
    "    #print(x.shape, y.shape)\n",
    "    \n",
    "    return x,y\n"
   ]
  },
  {
   "cell_type": "code",
   "execution_count": 3,
   "metadata": {
    "tags": []
   },
   "outputs": [
    {
     "output_type": "stream",
     "name": "stdout",
     "text": "Features:  4  Classes:  4  Samples:  500\n"
    }
   ],
   "source": [
    "train_x,train_y =  data_loader(\"trainNN.txt\",1)\n",
    "train_x = train_x.T\n",
    "train_y  = modify_train_y(classes,train_y)\n",
    "print(\"Features: \",str(features), \" Classes: \",str(classes),\" Samples: \",str(samples))"
   ]
  },
  {
   "cell_type": "code",
   "execution_count": 4,
   "metadata": {},
   "outputs": [],
   "source": [
    "test_x,test_y =  data_loader(\"testNN.txt\",0)\n",
    "test_x = test_x.T"
   ]
  },
  {
   "cell_type": "code",
   "execution_count": 5,
   "metadata": {
    "tags": []
   },
   "outputs": [],
   "source": [
    "def sigmoid(z):\n",
    "    return (1.0/(1.0+np.exp(-z)))\n",
    "def derivative_sigmoid(z):\n",
    "    return sigmoid(z)*(1-sigmoid(z))\n",
    "def error(target,output):\n",
    "    return  np.sum((target-output)*(target-output))/2.0\n",
    "def derivative_error(target,output):\n",
    "    return target-output\n",
    "\n"
   ]
  },
  {
   "cell_type": "code",
   "execution_count": 6,
   "metadata": {},
   "outputs": [],
   "source": [
    "class Layer:\n",
    "    def __init__(self,in_nodes,out_nodes):\n",
    "        self.weight = np.random.randn(out_nodes,in_nodes)\n",
    "        max_value = np.max(self.weight)\n",
    "        self.weight/=max_value\n",
    "\n",
    "        self.bias = np.random.randn(out_nodes,1)\n",
    "        max_value = np.max(self.bias)\n",
    "        self.bias/=max_value\n",
    "\n",
    "        self.Z = None\n",
    "        self.A = None\n",
    "\n",
    "        self.dZ = None\n",
    "        self.dA = None\n",
    "\n",
    "        self.prev_A = None\n",
    "\n",
    "    def forward(self,X):\n",
    "        self.prev_A = X\n",
    "\n",
    "        self.Z = np.dot(self.weight,X)+self.bias\n",
    "        self.A = sigmoid(self.Z)\n",
    "\n",
    "        return self.A\n",
    "\n",
    "\n",
    "    def backward(self,delta,isLast , m ,learning_rate):\n",
    "\n",
    "        if isLast:\n",
    "            self.dA = self.A-delta\n",
    "        else:\n",
    "            self.dA = delta\n",
    "\n",
    "        self.dZ = self.dA * derivative_sigmoid(self.A)\n",
    "\n",
    "        self.dW = np.dot(self.dZ, self.prev_A.T)*(1.0/m)\n",
    "        self.db =  np.sum(self.dZ, axis=1, keepdims=True)*(1.0/m)\n",
    "\n",
    "        self.weight = self.weight  - learning_rate * self.dW\n",
    "        self.bias = self.bias - learning_rate * self.db\n",
    "\n",
    "        return np.dot(self.weight.T, delta)\n",
    "\n",
    "\n",
    "\n"
   ]
  },
  {
   "cell_type": "code",
   "execution_count": 7,
   "metadata": {},
   "outputs": [],
   "source": [
    "class Network:\n",
    "    def __init__(self,features, classes, n_layers, size_layers):\n",
    "        self.layers = []\n",
    "\n",
    "        for i in range(1,len( size_layers)):\n",
    "            self.layers.append(Layer(size_layers[i-1],size_layers[i]))\n",
    "            # print(self.layers[-1].weight.shape)\n",
    "        \n",
    "    def train(self,X,Y,epoch =1000, learning_rate = 0.1):\n",
    "        for i in range(epoch):\n",
    "            A = X\n",
    "            for layer in self.layers:\n",
    "                A = layer.forward(A)\n",
    "            \n",
    "            delta = Y\n",
    "            for layer in reversed(self.layers):\n",
    "                delta = layer.backward(delta, layer == self.layers[-1] ,Y.shape[1],learning_rate)   \n",
    "\n",
    "            if((i+1)%100==0):\n",
    "                print('Iteration: ',str(i+1),' Error: ',error(self.layers[-1].A,Y))\n",
    "\n",
    "        print('Train done!')\n",
    "\n",
    "    def decide(self, X):\n",
    "        A = X\n",
    "        for layer in self.layers:\n",
    "            Z = np.dot(layer.weight,A)+layer.bias\n",
    "            A = sigmoid(Z)\n",
    "\n",
    "        y_temp = A.T.tolist() \n",
    "        #print(y_temp)\n",
    "        y_hat  = []\n",
    "        for row in y_temp:\n",
    "            y_hat.append(row.index(max(row)) + 1)\n",
    "\n",
    "        return y_hat\n",
    "\n",
    "    def test(self,X,Y):\n",
    "        m = len(Y)\n",
    "\n",
    "        y_hat = self.decide(X)\n",
    "\n",
    "        n_miss = 0.0\n",
    "        for i in range(m):\n",
    "            #print(\"Expected : %d    Found : %d\" %(Y[i], y_hat[i]))\n",
    "            print('Expected: ',Y[i],' Found: ',y_hat[i])\n",
    "            if (Y[i] != y_hat[i]):\n",
    "                n_miss += 1\n",
    "\n",
    "        print(\"Test complete\\n\")\n",
    "\n",
    "        print(\"~~~~~~~~~~~~~~~~~~~~~~~~~~~~~~~~~~~~~~~~~~\")\n",
    "        print(\"Total number of test samples = %d\" %(m))\n",
    "        print(\"Correctly classified         = %d\" %(m -n_miss))\n",
    "        print(\"Misclassified                = %d\" %(n_miss))\n",
    "\n",
    "        accuracy = float(m - n_miss) / float(m)\n",
    "        print(\"Accuracy                     = %f%%\" %(accuracy * 100))\n",
    "        print(\"~~~~~~~~~~~~~~~~~~~~~~~~~~~~~~~~~~~~~~~~~~\")\n",
    "\n",
    "\n"
   ]
  },
  {
   "cell_type": "code",
   "execution_count": 8,
   "metadata": {
    "tags": []
   },
   "outputs": [
    {
     "output_type": "stream",
     "name": "stdout",
     "text": "Iteration:  100  Error:  233.4726240294333\nIteration:  200  Error:  188.6909807702267\nIteration:  300  Error:  187.49038203515806\nIteration:  400  Error:  187.5135554055713\nIteration:  500  Error:  187.43621773486234\nIteration:  600  Error:  187.39960016405337\nIteration:  700  Error:  187.3916509198748\nIteration:  800  Error:  187.39027116196417\nIteration:  900  Error:  187.39004434808513\nIteration:  1000  Error:  187.3900072839383\nTrain done!\nExpected:  4  Found:  3\nExpected:  3  Found:  3\nExpected:  2  Found:  3\nExpected:  1  Found:  3\nExpected:  4  Found:  3\nExpected:  4  Found:  3\nExpected:  4  Found:  3\nExpected:  3  Found:  3\nExpected:  1  Found:  3\nExpected:  1  Found:  3\nExpected:  1  Found:  3\nExpected:  1  Found:  3\nExpected:  3  Found:  3\nExpected:  1  Found:  3\nExpected:  3  Found:  3\nExpected:  4  Found:  3\nExpected:  3  Found:  3\nExpected:  2  Found:  3\nExpected:  4  Found:  3\nExpected:  2  Found:  3\nExpected:  2  Found:  3\nExpected:  4  Found:  3\nExpected:  3  Found:  3\nExpected:  2  Found:  3\nExpected:  3  Found:  3\nExpected:  1  Found:  3\nExpected:  4  Found:  3\nExpected:  1  Found:  3\nExpected:  1  Found:  3\nExpected:  1  Found:  3\nExpected:  4  Found:  3\nExpected:  4  Found:  3\nExpected:  3  Found:  3\nExpected:  4  Found:  3\nExpected:  4  Found:  3\nExpected:  2  Found:  3\nExpected:  4  Found:  3\nExpected:  2  Found:  3\nExpected:  4  Found:  3\nExpected:  1  Found:  3\nExpected:  4  Found:  3\nExpected:  3  Found:  3\nExpected:  2  Found:  3\nExpected:  3  Found:  3\nExpected:  2  Found:  3\nExpected:  1  Found:  3\nExpected:  3  Found:  3\nExpected:  3  Found:  3\nExpected:  4  Found:  3\nExpected:  2  Found:  3\nExpected:  2  Found:  3\nExpected:  2  Found:  3\nExpected:  2  Found:  3\nExpected:  4  Found:  3\nExpected:  4  Found:  3\nExpected:  2  Found:  3\nExpected:  3  Found:  3\nExpected:  4  Found:  3\nExpected:  4  Found:  3\nExpected:  4  Found:  3\nExpected:  3  Found:  3\nExpected:  1  Found:  3\nExpected:  1  Found:  3\nExpected:  4  Found:  3\nExpected:  2  Found:  3\nExpected:  3  Found:  3\nExpected:  4  Found:  3\nExpected:  1  Found:  3\nExpected:  3  Found:  3\nExpected:  1  Found:  3\nExpected:  1  Found:  3\nExpected:  4  Found:  3\nExpected:  1  Found:  3\nExpected:  2  Found:  3\nExpected:  2  Found:  3\nExpected:  1  Found:  3\nExpected:  3  Found:  3\nExpected:  4  Found:  3\nExpected:  1  Found:  3\nExpected:  3  Found:  3\nExpected:  4  Found:  3\nExpected:  4  Found:  3\nExpected:  4  Found:  3\nExpected:  1  Found:  3\nExpected:  3  Found:  3\nExpected:  4  Found:  3\nExpected:  3  Found:  3\nExpected:  4  Found:  3\nExpected:  4  Found:  3\nExpected:  4  Found:  3\nExpected:  1  Found:  3\nExpected:  2  Found:  3\nExpected:  2  Found:  3\nExpected:  1  Found:  3\nExpected:  1  Found:  3\nExpected:  4  Found:  3\nExpected:  3  Found:  3\nExpected:  4  Found:  3\nExpected:  4  Found:  3\nExpected:  2  Found:  3\nExpected:  2  Found:  3\nExpected:  1  Found:  3\nExpected:  2  Found:  3\nExpected:  2  Found:  3\nExpected:  2  Found:  3\nExpected:  2  Found:  3\nExpected:  2  Found:  3\nExpected:  1  Found:  3\nExpected:  2  Found:  3\nExpected:  3  Found:  3\nExpected:  2  Found:  3\nExpected:  3  Found:  3\nExpected:  2  Found:  3\nExpected:  2  Found:  3\nExpected:  4  Found:  3\nExpected:  4  Found:  3\nExpected:  4  Found:  3\nExpected:  4  Found:  3\nExpected:  3  Found:  3\nExpected:  3  Found:  3\nExpected:  3  Found:  3\nExpected:  1  Found:  3\nExpected:  1  Found:  3\nExpected:  3  Found:  3\nExpected:  2  Found:  3\nExpected:  4  Found:  3\nExpected:  2  Found:  3\nExpected:  1  Found:  3\nExpected:  2  Found:  3\nExpected:  3  Found:  3\nExpected:  4  Found:  3\nExpected:  3  Found:  3\nExpected:  3  Found:  3\nExpected:  3  Found:  3\nExpected:  3  Found:  3\nExpected:  4  Found:  3\nExpected:  2  Found:  3\nExpected:  2  Found:  3\nExpected:  1  Found:  3\nExpected:  4  Found:  3\nExpected:  3  Found:  3\nExpected:  2  Found:  3\nExpected:  3  Found:  3\nExpected:  1  Found:  3\nExpected:  1  Found:  3\nExpected:  3  Found:  3\nExpected:  3  Found:  3\nExpected:  3  Found:  3\nExpected:  4  Found:  3\nExpected:  3  Found:  3\nExpected:  3  Found:  3\nExpected:  2  Found:  3\nExpected:  1  Found:  3\nExpected:  3  Found:  3\nExpected:  1  Found:  3\nExpected:  2  Found:  3\nExpected:  2  Found:  3\nExpected:  3  Found:  3\nExpected:  3  Found:  3\nExpected:  4  Found:  3\nExpected:  4  Found:  3\nExpected:  4  Found:  3\nExpected:  4  Found:  3\nExpected:  1  Found:  3\nExpected:  4  Found:  3\nExpected:  1  Found:  3\nExpected:  1  Found:  3\nExpected:  1  Found:  3\nExpected:  3  Found:  3\nExpected:  4  Found:  3\nExpected:  3  Found:  3\nExpected:  1  Found:  3\nExpected:  3  Found:  3\nExpected:  3  Found:  3\nExpected:  1  Found:  3\nExpected:  2  Found:  3\nExpected:  3  Found:  3\nExpected:  3  Found:  3\nExpected:  1  Found:  3\nExpected:  2  Found:  3\nExpected:  2  Found:  3\nExpected:  3  Found:  3\nExpected:  1  Found:  3\nExpected:  3  Found:  3\nExpected:  4  Found:  3\nExpected:  1  Found:  3\nExpected:  3  Found:  3\nExpected:  4  Found:  3\nExpected:  3  Found:  3\nExpected:  3  Found:  3\nExpected:  2  Found:  3\nExpected:  2  Found:  3\nExpected:  1  Found:  3\nExpected:  2  Found:  3\nExpected:  2  Found:  3\nExpected:  2  Found:  3\nExpected:  4  Found:  3\nExpected:  2  Found:  3\nExpected:  4  Found:  3\nExpected:  4  Found:  3\nExpected:  2  Found:  3\nExpected:  1  Found:  3\nExpected:  1  Found:  3\nExpected:  3  Found:  3\nExpected:  2  Found:  3\nExpected:  4  Found:  3\nExpected:  2  Found:  3\nExpected:  1  Found:  3\nExpected:  3  Found:  3\nExpected:  4  Found:  3\nExpected:  3  Found:  3\nExpected:  2  Found:  3\nExpected:  2  Found:  3\nExpected:  4  Found:  3\nExpected:  4  Found:  3\nExpected:  2  Found:  3\nExpected:  1  Found:  3\nExpected:  1  Found:  3\nExpected:  3  Found:  3\nExpected:  1  Found:  3\nExpected:  2  Found:  3\nExpected:  2  Found:  3\nExpected:  2  Found:  3\nExpected:  2  Found:  3\nExpected:  2  Found:  3\nExpected:  1  Found:  3\nExpected:  1  Found:  3\nExpected:  3  Found:  3\nExpected:  1  Found:  3\nExpected:  4  Found:  3\nExpected:  2  Found:  3\nExpected:  2  Found:  3\nExpected:  3  Found:  3\nExpected:  3  Found:  3\nExpected:  1  Found:  3\nExpected:  1  Found:  3\nExpected:  1  Found:  3\nExpected:  3  Found:  3\nExpected:  4  Found:  3\nExpected:  3  Found:  3\nExpected:  1  Found:  3\nExpected:  3  Found:  3\nExpected:  4  Found:  3\nExpected:  1  Found:  3\nExpected:  4  Found:  3\nExpected:  1  Found:  3\nExpected:  4  Found:  3\nExpected:  4  Found:  3\nExpected:  3  Found:  3\nExpected:  2  Found:  3\nExpected:  4  Found:  3\nExpected:  1  Found:  3\nExpected:  3  Found:  3\nExpected:  3  Found:  3\nExpected:  3  Found:  3\nExpected:  1  Found:  3\nExpected:  1  Found:  3\nExpected:  1  Found:  3\nExpected:  4  Found:  3\nExpected:  4  Found:  3\nExpected:  2  Found:  3\nExpected:  4  Found:  3\nExpected:  2  Found:  3\nExpected:  1  Found:  3\nExpected:  2  Found:  3\nExpected:  3  Found:  3\nExpected:  3  Found:  3\nExpected:  3  Found:  3\nExpected:  2  Found:  3\nExpected:  1  Found:  3\nExpected:  1  Found:  3\nExpected:  1  Found:  3\nExpected:  3  Found:  3\nExpected:  2  Found:  3\nExpected:  1  Found:  3\nExpected:  3  Found:  3\nExpected:  1  Found:  3\nExpected:  4  Found:  3\nExpected:  3  Found:  3\nExpected:  3  Found:  3\nExpected:  1  Found:  3\nExpected:  4  Found:  3\nExpected:  3  Found:  3\nExpected:  3  Found:  3\nExpected:  2  Found:  3\nExpected:  3  Found:  3\nExpected:  1  Found:  3\nExpected:  3  Found:  3\nExpected:  4  Found:  3\nExpected:  2  Found:  3\nExpected:  3  Found:  3\nExpected:  2  Found:  3\nExpected:  3  Found:  3\nExpected:  2  Found:  3\nExpected:  4  Found:  3\nExpected:  4  Found:  3\nExpected:  4  Found:  3\nExpected:  2  Found:  3\nExpected:  2  Found:  3\nExpected:  3  Found:  3\nExpected:  4  Found:  3\nExpected:  1  Found:  3\nExpected:  1  Found:  3\nExpected:  4  Found:  3\nExpected:  4  Found:  3\nExpected:  2  Found:  3\nExpected:  4  Found:  3\nExpected:  4  Found:  3\nExpected:  3  Found:  3\nExpected:  2  Found:  3\nExpected:  2  Found:  3\nExpected:  2  Found:  3\nExpected:  3  Found:  3\nExpected:  2  Found:  3\nExpected:  4  Found:  3\nExpected:  2  Found:  3\nExpected:  2  Found:  3\nExpected:  4  Found:  3\nExpected:  3  Found:  3\nExpected:  3  Found:  3\nExpected:  1  Found:  3\nExpected:  2  Found:  3\nExpected:  1  Found:  3\nExpected:  3  Found:  3\nExpected:  3  Found:  3\nExpected:  4  Found:  3\nExpected:  3  Found:  3\nExpected:  3  Found:  3\nExpected:  4  Found:  3\nExpected:  2  Found:  3\nExpected:  2  Found:  3\nExpected:  4  Found:  3\nExpected:  4  Found:  3\nExpected:  1  Found:  3\nExpected:  1  Found:  3\nExpected:  1  Found:  3\nExpected:  1  Found:  3\nExpected:  1  Found:  3\nExpected:  3  Found:  3\nExpected:  1  Found:  3\nExpected:  2  Found:  3\nExpected:  3  Found:  3\nExpected:  1  Found:  3\nExpected:  1  Found:  3\nExpected:  2  Found:  3\nExpected:  1  Found:  3\nExpected:  2  Found:  3\nExpected:  4  Found:  3\nExpected:  2  Found:  3\nExpected:  4  Found:  3\nExpected:  3  Found:  3\nExpected:  3  Found:  3\nExpected:  3  Found:  3\nExpected:  4  Found:  3\nExpected:  4  Found:  3\nExpected:  1  Found:  3\nExpected:  4  Found:  3\nExpected:  1  Found:  3\nExpected:  1  Found:  3\nExpected:  1  Found:  3\nExpected:  1  Found:  3\nExpected:  1  Found:  3\nExpected:  4  Found:  3\nExpected:  2  Found:  3\nExpected:  4  Found:  3\nExpected:  3  Found:  3\nExpected:  4  Found:  3\nExpected:  2  Found:  3\nExpected:  1  Found:  3\nExpected:  1  Found:  3\nExpected:  3  Found:  3\nExpected:  2  Found:  3\nExpected:  2  Found:  3\nExpected:  1  Found:  3\nExpected:  3  Found:  3\nExpected:  4  Found:  3\nExpected:  4  Found:  3\nExpected:  1  Found:  3\nExpected:  3  Found:  3\nExpected:  2  Found:  3\nExpected:  1  Found:  3\nExpected:  3  Found:  3\nExpected:  2  Found:  3\nExpected:  3  Found:  3\nExpected:  4  Found:  3\nExpected:  1  Found:  3\nExpected:  2  Found:  3\nExpected:  1  Found:  3\nExpected:  2  Found:  3\nExpected:  3  Found:  3\nExpected:  1  Found:  3\nExpected:  3  Found:  3\nExpected:  2  Found:  3\nExpected:  3  Found:  3\nExpected:  1  Found:  3\nExpected:  2  Found:  3\nExpected:  1  Found:  3\nExpected:  1  Found:  3\nExpected:  2  Found:  3\nExpected:  3  Found:  3\nExpected:  1  Found:  3\nExpected:  2  Found:  3\nExpected:  3  Found:  3\nExpected:  2  Found:  3\nExpected:  1  Found:  3\nExpected:  2  Found:  3\nExpected:  2  Found:  3\nExpected:  4  Found:  3\nExpected:  2  Found:  3\nExpected:  4  Found:  3\nExpected:  3  Found:  3\nExpected:  1  Found:  3\nExpected:  2  Found:  3\nExpected:  3  Found:  3\nExpected:  2  Found:  3\nExpected:  1  Found:  3\nExpected:  1  Found:  3\nExpected:  4  Found:  3\nExpected:  3  Found:  3\nExpected:  1  Found:  3\nExpected:  3  Found:  3\nExpected:  2  Found:  3\nExpected:  2  Found:  3\nExpected:  3  Found:  3\nExpected:  2  Found:  3\nExpected:  1  Found:  3\nExpected:  1  Found:  3\nExpected:  3  Found:  3\nExpected:  2  Found:  3\nExpected:  4  Found:  3\nExpected:  1  Found:  3\nExpected:  2  Found:  3\nExpected:  3  Found:  3\nExpected:  1  Found:  3\nExpected:  4  Found:  3\nExpected:  3  Found:  3\nExpected:  4  Found:  3\nExpected:  3  Found:  3\nExpected:  1  Found:  3\nExpected:  2  Found:  3\nExpected:  1  Found:  3\nExpected:  3  Found:  3\nExpected:  1  Found:  3\nExpected:  3  Found:  3\nExpected:  2  Found:  3\nExpected:  2  Found:  3\nExpected:  3  Found:  3\nExpected:  3  Found:  3\nExpected:  4  Found:  3\nExpected:  2  Found:  3\nExpected:  2  Found:  3\nExpected:  2  Found:  3\nExpected:  3  Found:  3\nExpected:  4  Found:  3\nExpected:  4  Found:  3\nExpected:  4  Found:  3\nExpected:  4  Found:  3\nExpected:  1  Found:  3\nExpected:  4  Found:  3\nExpected:  4  Found:  3\nExpected:  4  Found:  3\nExpected:  4  Found:  3\nExpected:  1  Found:  3\nExpected:  3  Found:  3\nExpected:  2  Found:  3\nExpected:  3  Found:  3\nExpected:  4  Found:  3\nExpected:  2  Found:  3\nExpected:  4  Found:  3\nExpected:  1  Found:  3\nExpected:  3  Found:  3\nExpected:  3  Found:  3\nExpected:  3  Found:  3\nExpected:  2  Found:  3\nExpected:  2  Found:  3\nExpected:  4  Found:  3\nExpected:  3  Found:  3\nExpected:  1  Found:  3\nExpected:  3  Found:  3\nExpected:  1  Found:  3\nExpected:  4  Found:  3\nExpected:  4  Found:  3\nExpected:  2  Found:  3\nExpected:  1  Found:  3\nExpected:  4  Found:  3\nExpected:  2  Found:  3\nExpected:  2  Found:  3\nExpected:  1  Found:  3\nExpected:  1  Found:  3\nExpected:  3  Found:  3\nExpected:  2  Found:  3\nExpected:  4  Found:  3\nExpected:  2  Found:  3\nExpected:  2  Found:  3\nExpected:  1  Found:  3\nExpected:  1  Found:  3\nExpected:  3  Found:  3\nExpected:  2  Found:  3\nExpected:  4  Found:  3\nExpected:  1  Found:  3\nTest complete\n\n~~~~~~~~~~~~~~~~~~~~~~~~~~~~~~~~~~~~~~~~~~\nTotal number of test samples = 500\nCorrectly classified         = 128\nMisclassified                = 372\nAccuracy                     = 25.600000%\n~~~~~~~~~~~~~~~~~~~~~~~~~~~~~~~~~~~~~~~~~~\n"
    }
   ],
   "source": [
    "network = Network(features,classes, 6, [features,4,6,8,6,4,classes])\n",
    "network.train(train_x,train_y)\n",
    "network.test(test_x,test_y)"
   ]
  },
  {
   "cell_type": "code",
   "execution_count": null,
   "metadata": {},
   "outputs": [],
   "source": []
  }
 ]
}