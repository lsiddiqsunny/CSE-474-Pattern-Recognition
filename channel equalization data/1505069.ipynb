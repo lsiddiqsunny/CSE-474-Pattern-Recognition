{
 "metadata": {
  "language_info": {
   "codemirror_mode": {
    "name": "ipython",
    "version": 3
   },
   "file_extension": ".py",
   "mimetype": "text/x-python",
   "name": "python",
   "nbconvert_exporter": "python",
   "pygments_lexer": "ipython3",
   "version": "3.7.3-final"
  },
  "orig_nbformat": 2,
  "kernelspec": {
   "name": "python3",
   "display_name": "Python 3.7.3 64-bit (conda)",
   "metadata": {
    "interpreter": {
     "hash": "d0361a021074822d5d0e3e04a8511f4037429e1096de4a693b80cecaa6b6d3fc"
    }
   }
  }
 },
 "nbformat": 4,
 "nbformat_minor": 2,
 "cells": [
  {
   "cell_type": "code",
   "execution_count": 4,
   "metadata": {},
   "outputs": [],
   "source": [
    "import numpy as np\n",
    "from collections import defaultdict\n",
    "import scipy.stats\n",
    "import math\n"
   ]
  },
  {
   "cell_type": "code",
   "execution_count": 5,
   "metadata": {},
   "outputs": [],
   "source": [
    "def bin2int(arr):\n",
    "    val = 0\n",
    "    for i in range(len(arr)):\n",
    "        val += arr[i]<<i\n",
    "    return val\n"
   ]
  },
  {
   "cell_type": "code",
   "execution_count": 6,
   "metadata": {},
   "outputs": [],
   "source": [
    "with open(\"parameter.txt\", \"r\") as config_file:\n",
    "    n, l = map(int, config_file.readline().split())\n",
    "    h = np.array(list(map(float, config_file.readline().split())))\n",
    "    sigma = float(config_file.readline()) \n"
   ]
  },
  {
   "cell_type": "code",
   "execution_count": 7,
   "metadata": {},
   "outputs": [
    {
     "output_type": "stream",
     "name": "stdout",
     "text": [
      "n:  2 \nl:  2\nWeights:  [0.7 0.5]\nSigma:  0.25\n"
     ]
    }
   ],
   "source": [
    "print(\"n: \",n,\"\\nl: \",l)\n",
    "print(\"Weights: \", h)\n",
    "print(\"Sigma: \",sigma)"
   ]
  },
  {
   "cell_type": "code",
   "execution_count": 8,
   "metadata": {},
   "outputs": [],
   "source": [
    "with open(\"train.txt\") as train_file:\n",
    "    I = list(map(int, train_file.readline()))"
   ]
  },
  {
   "cell_type": "code",
   "execution_count": 9,
   "metadata": {},
   "outputs": [
    {
     "output_type": "execute_result",
     "data": {
      "text/plain": [
       "[1, 1, 0, 0, 1, 0, 0, 0, 0, 0]"
      ]
     },
     "metadata": {},
     "execution_count": 9
    }
   ],
   "source": [
    "I[:10]"
   ]
  },
  {
   "cell_type": "code",
   "execution_count": 10,
   "metadata": {},
   "outputs": [],
   "source": [
    "m = n+l-1\n",
    "prior_probabilities = defaultdict(float)\n",
    "transition_probabilities = np.zeros((2**m, 2**m))\n",
    "clusters = defaultdict(list)\n",
    "cluster_means = defaultdict(float)\n",
    "cluster_CoVar = defaultdict(float)"
   ]
  },
  {
   "cell_type": "code",
   "execution_count": 11,
   "metadata": {},
   "outputs": [],
   "source": [
    "samples = []\n",
    "X = []\n",
    "prev_cluster_class = -1\n",
    "\n",
    "for k in range(0,len(I)-n+1):\n",
    "    if k != len(I) - n:\n",
    "        cluster_class = bin2int(I[k:k+n+1])\n",
    "    else:\n",
    "        cluster_class = bin2int(I[k:k+n])\n",
    "    # print(train_bits[k:k+n+1])\n",
    "    X.append(np.array(I[k:k+n]).dot(h) + np.random.normal(loc=0.0, scale=sigma))\n",
    "    samples.append(I[k:k+n])\n",
    "    prior_probabilities[cluster_class] += 1\n",
    "    if prev_cluster_class !=-1:\n",
    "        transition_probabilities[cluster_class][prev_cluster_class] += 1\n",
    "    if k>=n-1:\n",
    "        curr_X = []\n",
    "        for i in range(1,l+1):\n",
    "            curr_X.append(X[-i])\n",
    "        curr_X.reverse()\n",
    "        clusters[cluster_class].append(curr_X)\n",
    "    prev_cluster_class = cluster_class\n",
    "    \n"
   ]
  },
  {
   "cell_type": "code",
   "execution_count": 12,
   "metadata": {},
   "outputs": [],
   "source": [
    "\n",
    "\n",
    "transition_probabilities /= transition_probabilities.sum(axis=1, keepdims=True)\n",
    "\n",
    "for i in range(2**m):\n",
    "    clusters[i] = np.array(clusters[i])\n",
    "\n",
    "for i in range(2**m):\n",
    "    cluster_means[i] = np.mean(clusters[i],axis=0)\n",
    "    cluster_CoVar[i] = np.cov(clusters[i].T)\n",
    "\n",
    "for i in range(2**m):\n",
    "    prior_probabilities[i] /= len(samples)\n"
   ]
  },
  {
   "cell_type": "code",
   "execution_count": 13,
   "metadata": {},
   "outputs": [],
   "source": [
    "with open(\"test.txt\") as test_file:\n",
    "    I_Test = list(map(int, test_file.readline()))\n",
    "\n",
    "test_samples = []\n",
    "test_X = []\n",
    "# len(train_bits)-n+1\n",
    "for k in range(0,len(I_Test )-n+1):\n",
    "    test_X.append(np.array(I_Test [k:k+n]).dot(h) + np.random.normal(loc=0.0, scale=sigma))\n",
    "    if k>=n-1:\n",
    "        curr_X = []\n",
    "        for i in range(1,l+1):\n",
    "            curr_X.append(test_X[-i])\n",
    "        curr_X.reverse()\n",
    "    test_samples.append(curr_X)"
   ]
  },
  {
   "cell_type": "code",
   "execution_count": 14,
   "metadata": {},
   "outputs": [],
   "source": [
    "Table = []\n",
    "x = test_samples[0]\n",
    "temp = {}\n",
    "for j in range(2**m):\n",
    "    cost = np.linalg.norm(x-cluster_means[j])\n",
    "    temp[j] = (cost, None)\n",
    "Table.append(temp)"
   ]
  },
  {
   "cell_type": "code",
   "execution_count": 16,
   "metadata": {},
   "outputs": [],
   "source": [
    "for i in range(1, len(test_samples)):\n",
    "    x = test_samples[i]\n",
    "    temp = {}\n",
    "    for j in range(2 ** m):\n",
    "\n",
    "        min_cost = float(\"inf\")\n",
    "        parent = None\n",
    "        for k in range(2**m):\n",
    "            cost = Table[i-1][k][0] + np.linalg.norm(x-cluster_means[k])\n",
    "            if cost < min_cost:\n",
    "                min_cost = cost\n",
    "                parent = k\n",
    "                temp[j] = (min_cost, parent)\n",
    "    Table.append(temp)"
   ]
  },
  {
   "cell_type": "code",
   "execution_count": 17,
   "metadata": {},
   "outputs": [],
   "source": [
    "last = Table[-1]\n",
    "last_class = None\n",
    "parent = None\n",
    "min_cost = float(\"inf\")\n",
    "for j in range(2**m):\n",
    "    cost = last[j][0]\n",
    "    if cost < min_cost:\n",
    "        min_cost = cost\n",
    "        last_class = j\n",
    "        parent = last[j][1]"
   ]
  },
  {
   "cell_type": "code",
   "execution_count": 18,
   "metadata": {},
   "outputs": [],
   "source": [
    "decision = []\n",
    "for i in range(len(Table)-1, 0, -1):\n",
    "    dictionary = Table[i]\n",
    "    parent = dictionary[last_class][1]\n",
    "    decision.append(last_class)\n",
    "    last_class = parent\n"
   ]
  },
  {
   "cell_type": "code",
   "execution_count": 19,
   "metadata": {},
   "outputs": [],
   "source": [
    "last = Table[0]\n",
    "last_class = None\n",
    "min_cost = float(\"inf\")\n",
    "for j in range(2**m):\n",
    "    cost = last[j][0]\n",
    "    if cost < min_cost:\n",
    "        min_cost = cost\n",
    "        last_class = j\n",
    "decision.append(last_class)\n"
   ]
  },
  {
   "cell_type": "code",
   "execution_count": 20,
   "metadata": {},
   "outputs": [
    {
     "output_type": "stream",
     "name": "stdout",
     "text": [
      "\n\n\nOriginal bits\t :  [1, 0, 0, 1, 0, 0, 0, 0, 0, 1, 1, 1, 1, 1, 1, 1, 0, 1, 0, 1, 0, 0, 1, 0, 0, 1, 0, 0, 1, 1, 0, 1, 0, 1, 0, 1, 1, 1, 0, 1, 1, 0, 1, 1, 0, 1, 1, 1, 0, 1, 0, 0, 1, 1, 1, 1, 1, 1, 0, 0, 1, 0, 0, 0, 0, 0, 0, 0, 0, 0, 1, 0, 1, 0, 0, 0, 1, 1, 0, 1, 1, 0, 0, 0, 0, 0, 0, 1, 0, 0, 1, 0, 1, 1, 0, 0, 0, 1, 1]\nPredictions\t :  [0, 0, 1, 0, 0, 1, 1, 1, 1, 1, 1, 1, 1, 1, 1, 1, 0, 1, 1, 1, 0, 1, 1, 1, 1, 1, 0, 1, 0, 1, 1, 1, 0, 1, 1, 1, 1, 1, 1, 1, 1, 1, 1, 1, 1, 1, 1, 1, 1, 1, 0, 1, 1, 1, 1, 1, 1, 1, 0, 1, 0, 0, 1, 1, 1, 1, 1, 1, 1, 1, 1, 1, 0, 0, 1, 1, 1, 1, 1, 1, 1, 0, 1, 1, 1, 1, 1, 1, 0, 1, 1, 1, 1, 1, 0, 1, 1, 1, 0]\n\n\nAccuracy :  54.54545454545455 %\n"
     ]
    }
   ],
   "source": [
    "result = []\n",
    "for i in list(reversed(decision)):\n",
    "    result.append(np.binary_repr(i, width=l)[0])\n",
    "\n",
    "print(\"\\n\\n\\nOriginal bits\\t : \", I_Test[l-1:])\n",
    "predictions = list(map(int, result))\n",
    "print(\"Predictions\\t : \", predictions)\n",
    "\n",
    "result = np.array(predictions).reshape(1, len(predictions))\n",
    "test = np.array(I_Test[l-1:]).reshape(1, len(I_Test)-l+1)\n",
    "\n",
    "diff = result-test\n",
    "print(\"\\n\\nAccuracy : \",  100 - len(result[result!=test]) / len(predictions) * 100, \"%\")\n",
    "with open('out2.txt', 'w') as f:\n",
    "    for item in reversed(predictions):\n",
    "        f.write(\"%s\" % item)"
   ]
  },
  {
   "cell_type": "code",
   "execution_count": 21,
   "metadata": {},
   "outputs": [],
   "source": [
    "def multivariate_normal(x, means, cov_mat):\n",
    "        d = len(x)\n",
    "        co_eff = math.sqrt(math.pow(2 * math.pi, d) * math.fabs(np.linalg.det(cov_mat)))\n",
    "        x_mu = np.matrix(x) - np.matrix(means)\n",
    "        Power = -0.5 * x_mu * np.linalg.inv(cov_mat) * x_mu.transpose()\n",
    "        Exp = math.exp(Power)\n",
    "        result = Exp  / co_eff\n",
    "        return result"
   ]
  },
  {
   "cell_type": "code",
   "execution_count": 28,
   "metadata": {},
   "outputs": [],
   "source": [
    "Table = []\n",
    "x = test_samples[0]\n",
    "temp = {}\n",
    "eps = 0.0000000000001\n",
    "for j in range(2**m):\n",
    "    cost = math.log(multivariate_normal(x, cluster_means[j], cluster_CoVar[j])+eps) + math.log(prior_probabilities[j]+eps)\n",
    "    temp[j] = (cost, None)\n",
    "Table.append(temp)"
   ]
  },
  {
   "cell_type": "code",
   "execution_count": 29,
   "metadata": {},
   "outputs": [],
   "source": [
    "for i in range(1, len(test_samples)):\n",
    "    x = test_samples[i]\n",
    "    temp = {}\n",
    "    for j in range(2 ** m):\n",
    "        max_cost = -float(\"inf\")\n",
    "        parent = None\n",
    "        for k in range(2**m):\n",
    "            cost = Table[i-1][k][0] + math.log(multivariate_normal(x, cluster_means[j], cluster_CoVar[j])+eps) + math.log(transition_probabilities[j][k] +eps)\n",
    "            if cost > max_cost:\n",
    "                max_cost = cost\n",
    "                parent = k\n",
    "                temp[j] = (max_cost, parent)\n",
    "    Table.append(temp)"
   ]
  },
  {
   "cell_type": "code",
   "execution_count": 30,
   "metadata": {},
   "outputs": [],
   "source": [
    "last = Table[-1]\n",
    "last_class = None\n",
    "parent = None\n",
    "max_cost = -float(\"inf\")\n",
    "for j in range(2**m):\n",
    "    cost = last[j][0]\n",
    "    if cost > max_cost:\n",
    "        max_cost = cost\n",
    "        last_class = j\n",
    "        parent = last[j][1]"
   ]
  },
  {
   "cell_type": "code",
   "execution_count": 31,
   "metadata": {},
   "outputs": [],
   "source": [
    "decision = []\n",
    "for i in range(len(Table)-1, 0, -1):\n",
    "    dictionary = Table[i]\n",
    "    parent = dictionary[last_class][1]\n",
    "    decision.append(last_class)\n",
    "    last_class = parent\n"
   ]
  },
  {
   "cell_type": "code",
   "execution_count": 32,
   "metadata": {},
   "outputs": [],
   "source": [
    "last = Table[0]\n",
    "last_class = None\n",
    "max_cost = -float(\"inf\")\n",
    "for j in range(2**m):\n",
    "    cost = last[j][0]\n",
    "    if cost > max_cost:\n",
    "        max_cost = cost\n",
    "        last_class = j\n",
    "decision.append(last_class)\n"
   ]
  },
  {
   "cell_type": "code",
   "execution_count": 33,
   "metadata": {},
   "outputs": [
    {
     "output_type": "stream",
     "name": "stdout",
     "text": [
      "\n\n\nOriginal bits\t :  [1, 0, 0, 1, 0, 0, 0, 0, 0, 1, 1, 1, 1, 1, 1, 1, 0, 1, 0, 1, 0, 0, 1, 0, 0, 1, 0, 0, 1, 1, 0, 1, 0, 1, 0, 1, 1, 1, 0, 1, 1, 0, 1, 1, 0, 1, 1, 1, 0, 1, 0, 0, 1, 1, 1, 1, 1, 1, 0, 0, 1, 0, 0, 0, 0, 0, 0, 0, 0, 0, 1, 0, 1, 0, 0, 0, 1, 1, 0, 1, 1, 0, 0, 0, 0, 0, 0, 1, 0, 0, 1, 0, 1, 1, 0, 0, 0, 1, 1]\nPredictions\t :  [0, 0, 1, 1, 0, 0, 0, 0, 1, 1, 1, 1, 1, 1, 1, 1, 1, 1, 1, 1, 0, 1, 1, 0, 1, 1, 0, 1, 1, 1, 1, 1, 1, 1, 1, 1, 1, 1, 1, 1, 1, 1, 1, 1, 1, 1, 1, 1, 1, 1, 0, 1, 1, 1, 1, 1, 1, 1, 0, 1, 1, 0, 0, 0, 0, 0, 0, 0, 0, 0, 1, 1, 1, 0, 0, 1, 1, 1, 1, 1, 1, 0, 0, 0, 1, 1, 1, 1, 0, 0, 1, 1, 1, 1, 0, 0, 1, 1, 1]\n\n\nAccuracy :  74.74747474747474 %\n"
     ]
    }
   ],
   "source": [
    "result = []\n",
    "for i in list(reversed(decision)):\n",
    "    result.append(np.binary_repr(i, width=l)[0])\n",
    "\n",
    "print(\"\\n\\n\\nOriginal bits\\t : \", I_Test[l-1:])\n",
    "predictions = list(map(int, result))\n",
    "print(\"Predictions\\t : \", predictions)\n",
    "\n",
    "result = np.array(predictions).reshape(1, len(predictions))\n",
    "test = np.array(I_Test[l-1:]).reshape(1, len(I_Test)-l+1)\n",
    "\n",
    "diff = result-test\n",
    "print(\"\\n\\nAccuracy : \",  100 - len(result[result!=test]) / len(predictions) * 100, \"%\")\n",
    "\n",
    "with open('out1.txt', 'w') as f:\n",
    "    for item in reversed(predictions):\n",
    "        f.write(\"%s\" % item)"
   ]
  },
  {
   "cell_type": "code",
   "execution_count": null,
   "metadata": {},
   "outputs": [],
   "source": []
  },
  {
   "cell_type": "code",
   "execution_count": null,
   "metadata": {},
   "outputs": [],
   "source": []
  }
 ]
}