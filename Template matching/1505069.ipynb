{
 "metadata": {
  "language_info": {
   "codemirror_mode": {
    "name": "ipython",
    "version": 3
   },
   "file_extension": ".py",
   "mimetype": "text/x-python",
   "name": "python",
   "nbconvert_exporter": "python",
   "pygments_lexer": "ipython3",
   "version": "3.7.3-final"
  },
  "orig_nbformat": 2,
  "kernelspec": {
   "name": "python37364bitdeeplearningcondaeffde72656b44ccc9f803edcd0e403e5",
   "display_name": "Python 3.7.3 64-bit ('deep-learning': conda)"
  }
 },
 "nbformat": 4,
 "nbformat_minor": 2,
 "cells": [
  {
   "cell_type": "code",
   "execution_count": 33,
   "metadata": {},
   "outputs": [],
   "source": [
    "import cv2\n",
    "import numpy as np\n",
    "import math"
   ]
  },
  {
   "cell_type": "code",
   "execution_count": 34,
   "metadata": {},
   "outputs": [],
   "source": [
    "def distance(refimg, frameimg, M, N, m,n):\n",
    "    refimg = np.array(refimg).astype(np.int64)\n",
    "    frameimg = np.array(frameimg)[m: m + M, n: n + N].astype(np.int64)\n",
    "    return np.sum((frameimg - refimg)**2)"
   ]
  },
  {
   "cell_type": "code",
   "execution_count": 35,
   "metadata": {},
   "outputs": [],
   "source": [
    "def check(X,Y,x,y):\n",
    "    return x>=0 and x<X and y>=0 and y<Y"
   ]
  },
  {
   "cell_type": "code",
   "execution_count": 36,
   "metadata": {},
   "outputs": [],
   "source": [
    "def drawbox(rgb_frame,M,N,min_i,min_j):\n",
    "    for i in range(min_i - 1, min_i + M + 1):\n",
    "        rgb_frame[i][min_j - 1][0] = rgb_frame[i][min_j + N][0] = np.int8(0)\n",
    "        rgb_frame[i][min_j - 1][1] = rgb_frame[i][min_j + N][1] = np.int8(0)\n",
    "        rgb_frame[i][min_j - 1][2] = rgb_frame[i][min_j + N][2] = np.int8(255)\n",
    "\n",
    "    for j in range(min_j - 1, min_j + N + 1):\n",
    "        rgb_frame[min_i - 1][j][0] = rgb_frame[min_i + M][j][0] = np.int8(0)\n",
    "        rgb_frame[min_i - 1][j][1] = rgb_frame[min_i + M][j][1] = np.int8(0)\n",
    "        rgb_frame[min_i - 1][j][2] = rgb_frame[min_i + M][j][2] = np.int8(255)\n",
    "    return rgb_frame"
   ]
  },
  {
   "cell_type": "code",
   "execution_count": 37,
   "metadata": {},
   "outputs": [],
   "source": [
    "def exhaustive_search(ref_img, frames, frame_rate, p):\n",
    "    M,N= ref_img.shape\n",
    "    I,J = frames[0].shape\n",
    "\n",
    "    output_frames = []\n",
    "    prev_x = prev_y = 0\n",
    "    first = 0\n",
    "    for frame_img in frames:\n",
    "        d_min = math.inf\n",
    "        min_i = min_j = -1\n",
    "        if first == 0:\n",
    "            for i in range(I - M):\n",
    "                for j in range(J - N):\n",
    "                    d = distance(ref_img, frame_img, M, N, i, j)\n",
    "                    if d < d_min:\n",
    "                        d_min = d\n",
    "                        min_i = i\n",
    "                        min_j = j\n",
    "            prev_x = min_i\n",
    "            prev_y = min_j\n",
    "            first+=1\n",
    "        else:\n",
    "            for i in range(prev_x - p, prev_x + p + 1):\n",
    "                for j in range(prev_y - p, prev_y + p + 1):\n",
    "                    if not check(I-M,J-N,i,j):\n",
    "                        continue\n",
    "                    d = distance(ref_img, frame_img, M, N, i, j)\n",
    "                    if d < d_min:\n",
    "                        d_min = d\n",
    "                        min_i = i\n",
    "                        min_j = j\n",
    "            prev_x = min_i\n",
    "            prev_y = min_j\n",
    "\n",
    "        rgb_frame = cv2.cvtColor(frame_img, cv2.COLOR_GRAY2BGR)\n",
    "        rgb_frame = drawbox(rgb_frame,M,N,min_i,min_j)\n",
    "\n",
    "        output_frames.append(rgb_frame)\n",
    "\n",
    "    fourcc = cv2.VideoWriter_fourcc(*'DIVX')\n",
    "    out = cv2.VideoWriter('Output_Videos/out_exhaust_' + str(p) + '.avi', fourcc, frame_rate, (J, I), True)\n",
    "\n",
    "    for output_frame in output_frames:\n",
    "        out.write(output_frame)\n",
    "    out.release()\n",
    "\n",
    "    print(\"Output video saved for exhaustive search\")"
   ]
  },
  {
   "cell_type": "code",
   "execution_count": 38,
   "metadata": {},
   "outputs": [],
   "source": [
    "\n",
    "def logarithmic_search(ref_img, frames, frame_rate, p):\n",
    "    M,N = ref_img.shape\n",
    "    I,J = frames[0].shape\n",
    "\n",
    "    output_frames = []\n",
    "    prev_x = prev_y = 0\n",
    "    first = 0\n",
    "\n",
    "    for frame_img in frames:\n",
    "        d_min = math.inf\n",
    "        min_i = min_j = -1\n",
    "        if first == 0:\n",
    "            for i in range(I - M):\n",
    "                for j in range(J - N):\n",
    "                    d = distance(ref_img, frame_img, M, N, i, j)\n",
    "                    if d < d_min:\n",
    "                        d_min = d\n",
    "                        min_i = i\n",
    "                        min_j = j\n",
    "            prev_x = min_i\n",
    "            prev_y = min_j\n",
    "            first+=1\n",
    "        else:\n",
    "            p_tmp = p\n",
    "            spacing = math.pow(2, math.ceil(math.log(p, 2)) - 1)\n",
    "            while spacing >= 1:\n",
    "                d_min = math.inf\n",
    "                min_i = min_j = -1\n",
    "                for i in [prev_x - p_tmp, prev_x, prev_x + p_tmp]:\n",
    "                    for j in [prev_y - p_tmp, prev_y, prev_y + p_tmp]:\n",
    "                        if not check(I-M,J-N,i,j):\n",
    "                            continue\n",
    "                        d = distance(ref_img, frame_img, M, N, i, j)\n",
    "                        if d < d_min:\n",
    "                            d_min = d\n",
    "                            min_i = i\n",
    "                            min_j = j\n",
    "                prev_x = min_i\n",
    "                prev_y = min_j\n",
    "                p_tmp = round(p_tmp / 2.0)\n",
    "                spacing /= 2\n",
    "\n",
    "        rgb_frame = cv2.cvtColor(frame_img, cv2.COLOR_GRAY2BGR)\n",
    "\n",
    "        rgb_frame = drawbox(rgb_frame,M,N,min_i,min_j)\n",
    "\n",
    "        output_frames.append(rgb_frame)\n",
    "\n",
    "    fourcc = cv2.VideoWriter_fourcc(*'DIVX')\n",
    "    out = cv2.VideoWriter('Output_Videos/out_log_' + str(p) + '.avi', fourcc, frame_rate, (J, I), True)\n",
    "\n",
    "    for output_frame in output_frames:\n",
    "        out.write(output_frame)\n",
    "    out.release()\n",
    "\n",
    "    print(\"Output video saved for 2D logarithmic search\")"
   ]
  },
  {
   "cell_type": "code",
   "execution_count": 48,
   "metadata": {},
   "outputs": [],
   "source": [
    "def hierarchical_search(ref_img, frames, frame_rate, p):\n",
    "    M,N = ref_img.shape\n",
    "\n",
    "    I,J = frames[0].shape\n",
    "\n",
    "    output_frames = []\n",
    "    prev_x = prev_y = 0\n",
    "    first = 0\n",
    "\n",
    "    for frame_img in frames:\n",
    "        d_min = math.inf\n",
    "        min_i = min_j = -1\n",
    "        if first == 0:\n",
    "            \n",
    "            for i in range(I - M):\n",
    "                for j in range(J - N):\n",
    "                    d = distance(ref_img, frame_img, M, N, i, j)\n",
    "                    if d < d_min:\n",
    "                        d_min = d\n",
    "                        min_i = i\n",
    "                        min_j = j\n",
    "            prev_y = min_i\n",
    "            prev_x = min_j\n",
    "            first+=1\n",
    "        else:\n",
    "            lvl_refs = [ref_img]\n",
    "            lvl_frames = [frame_img]\n",
    "            lvl_refs.append(cv2.pyrDown(lvl_refs[0]))\n",
    "            lvl_frames.append(cv2.pyrDown(lvl_frames[0]))\n",
    "            lvl_refs.append(cv2.pyrDown(lvl_refs[1]))\n",
    "            lvl_frames.append(cv2.pyrDown(lvl_frames[1]))\n",
    "\n",
    "            p_tmp = round(p/4.0)\n",
    "            center_x = math.floor(prev_x/4.0)\n",
    "            center_y = math.floor(prev_y/4.0)\n",
    "            for i in range(center_y - p_tmp, center_y + p_tmp + 1):\n",
    "                for j in range(center_x - p_tmp, center_x + p_tmp + 1):\n",
    "                    I_,J_ = lvl_frames[2].shape\n",
    "                    M_,N_ = lvl_refs[2].shape\n",
    "                    if not check(I_-M_,J_-N_,i,j):\n",
    "                        continue\n",
    "                    d = distance(lvl_refs[2], lvl_frames[2], M_,N_, i, j)\n",
    "                    if d < d_min:\n",
    "                        d_min = d\n",
    "                        min_i = i\n",
    "                        min_j = j\n",
    "            y1 = min_i\n",
    "            x1 = min_j\n",
    "\n",
    "            d_min = math.inf\n",
    "            p_tmp = 1\n",
    "            center_x = 2*x1\n",
    "            center_y = 2*y1\n",
    "            for i in range(center_y - p_tmp, center_y + p_tmp + 1):\n",
    "                for j in range(center_x - p_tmp, center_x + p_tmp + 1):\n",
    "                    I_,J_ = lvl_frames[1].shape\n",
    "                    M_,N_ = lvl_refs[1].shape\n",
    "                    if not check(I_-M_,J_-N_,i,j):\n",
    "                        continue\n",
    "                    d = distance(lvl_refs[1], lvl_frames[1], M_,N_, i, j)\n",
    "                    if d < d_min:\n",
    "                        d_min = d\n",
    "                        min_i = i\n",
    "                        min_j = j\n",
    "            y2 = min_i\n",
    "            x2 = min_j\n",
    "\n",
    "            d_min = math.inf\n",
    "            p_tmp = 1\n",
    "            center_x = 2*x2\n",
    "            center_y = 2*y2\n",
    "            for i in range(center_y - p_tmp, center_y + p_tmp + 1):\n",
    "                for j in range(center_x - p_tmp, center_x + p_tmp + 1):\n",
    "                    I_,J_ = lvl_frames[0].shape\n",
    "                    M_,N_ = lvl_refs[0].shape\n",
    "                    if not check(I_-M_,J_-N_,i,j):\n",
    "                        continue\n",
    "                    d = distance(lvl_refs[0], lvl_frames[0], M_,N_, i, j)\n",
    "                    if d < d_min:\n",
    "                        d_min = d\n",
    "                        min_i = i\n",
    "                        min_j = j\n",
    "            prev_y = min_i\n",
    "            prev_x = min_j\n",
    "\n",
    "        rgb_frame = cv2.cvtColor(frame_img, cv2.COLOR_GRAY2BGR)\n",
    "\n",
    "        rgb_frame = drawbox(rgb_frame,M,N,min_i,min_j)\n",
    "\n",
    "        output_frames.append(rgb_frame)\n",
    "\n",
    "    fourcc = cv2.VideoWriter_fourcc(*'DIVX')\n",
    "    out = cv2.VideoWriter('Output_Videos/out_hierarchy_' + str(p) + '.avi', fourcc, frame_rate, (J, I), True)\n",
    "\n",
    "    for output_frame in output_frames:\n",
    "        out.write(output_frame)\n",
    "    out.release()\n",
    "\n",
    "    print(\"Output video saved for hierarchical search\")\n"
   ]
  },
  {
   "cell_type": "code",
   "execution_count": 40,
   "metadata": {},
   "outputs": [],
   "source": [
    "img = cv2.imread('reference.jpg')\n",
    "refimg = cv2.cvtColor(img, cv2.COLOR_BGR2GRAY)\n"
   ]
  },
  {
   "cell_type": "code",
   "execution_count": 41,
   "metadata": {},
   "outputs": [],
   "source": [
    "cap = cv2.VideoCapture('input.mov')\n",
    "frames = []\n",
    "fps = cap.get(cv2.CAP_PROP_FPS)\n",
    "while True:\n",
    "    ret, frame = cap.read()\n",
    "    if not ret:\n",
    "        break\n",
    "    frames.append(cv2.cvtColor(frame, cv2.COLOR_BGR2GRAY))\n",
    "cap.release()"
   ]
  },
  {
   "cell_type": "code",
   "execution_count": 42,
   "metadata": {},
   "outputs": [
    {
     "output_type": "stream",
     "name": "stdout",
     "text": [
      "Output video saved for exhaustive search\n"
     ]
    }
   ],
   "source": [
    "exhaustive_search(refimg, frames, fps, 8)"
   ]
  },
  {
   "cell_type": "code",
   "execution_count": 43,
   "metadata": {},
   "outputs": [
    {
     "output_type": "stream",
     "name": "stdout",
     "text": [
      "Output video saved for 2D logarithmic search\n"
     ]
    }
   ],
   "source": [
    "logarithmic_search(refimg, frames, fps, 8)"
   ]
  },
  {
   "cell_type": "code",
   "execution_count": 49,
   "metadata": {},
   "outputs": [
    {
     "output_type": "stream",
     "name": "stdout",
     "text": [
      "Output video saved for hierarchical search\n"
     ]
    }
   ],
   "source": [
    "hierarchical_search(refimg, frames, fps, 8)"
   ]
  },
  {
   "cell_type": "code",
   "execution_count": null,
   "metadata": {},
   "outputs": [],
   "source": []
  }
 ]
}