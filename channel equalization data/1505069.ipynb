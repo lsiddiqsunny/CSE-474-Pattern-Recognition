{
 "metadata": {
  "language_info": {
   "codemirror_mode": {
    "name": "ipython",
    "version": 3
   },
   "file_extension": ".py",
   "mimetype": "text/x-python",
   "name": "python",
   "nbconvert_exporter": "python",
   "pygments_lexer": "ipython3",
   "version": "3.7.3-final"
  },
  "orig_nbformat": 2,
  "kernelspec": {
   "name": "python3",
   "display_name": "Python 3.7.3 64-bit (conda)",
   "metadata": {
    "interpreter": {
     "hash": "d0361a021074822d5d0e3e04a8511f4037429e1096de4a693b80cecaa6b6d3fc"
    }
   }
  }
 },
 "nbformat": 4,
 "nbformat_minor": 2,
 "cells": [
  {
   "cell_type": "code",
   "execution_count": 9,
   "metadata": {},
   "outputs": [],
   "source": [
    "import numpy as np\n",
    "from collections import defaultdict"
   ]
  },
  {
   "cell_type": "code",
   "execution_count": 10,
   "metadata": {},
   "outputs": [],
   "source": [
    "def bin2int(arr):\n",
    "    y = 0\n",
    "    for i, j in enumerate(arr):\n",
    "        y += j<<i\n",
    "    return y\n"
   ]
  },
  {
   "cell_type": "code",
   "execution_count": 11,
   "metadata": {},
   "outputs": [],
   "source": [
    "with open(\"config.txt\", \"r\") as config_file:\n",
    "    n, l = map(int, config_file.readline().split())\n",
    "    h = np.array(list(map(float, config_file.readline().split())))\n",
    "    sigma_squared = float(config_file.readline()) \n",
    "    sigma = np.sqrt(sigma_squared)"
   ]
  },
  {
   "cell_type": "code",
   "execution_count": 12,
   "metadata": {},
   "outputs": [
    {
     "output_type": "stream",
     "name": "stdout",
     "text": [
      "n:  2 \nl:  2\nWeights:  [0.7 0.5]\nSigma:  0.4743416490252569\n"
     ]
    }
   ],
   "source": [
    "print(\"n: \",n,\"\\nl: \",l)\n",
    "print(\"Weights: \", h)\n",
    "print(\"Sigma: \",sigma)"
   ]
  },
  {
   "cell_type": "code",
   "execution_count": 13,
   "metadata": {},
   "outputs": [],
   "source": [
    "with open(\"train.txt\") as train_file:\n",
    "    train_bits = list(map(int, train_file.readline()))"
   ]
  },
  {
   "cell_type": "code",
   "execution_count": 14,
   "metadata": {},
   "outputs": [
    {
     "output_type": "execute_result",
     "data": {
      "text/plain": [
       "[1, 1, 0, 0, 1, 0, 0, 0, 0, 0]"
      ]
     },
     "metadata": {},
     "execution_count": 14
    }
   ],
   "source": [
    "train_bits[:10]"
   ]
  },
  {
   "cell_type": "code",
   "execution_count": 15,
   "metadata": {},
   "outputs": [],
   "source": [
    "samples = []\n",
    "for i in range(len(train_bits)-n+1):\n",
    "    # print(train_bits[i:i+n])\n",
    "    samples.append(train_bits[i:i+n])\n",
    "samples = np.array(samples)"
   ]
  },
  {
   "cell_type": "code",
   "execution_count": 16,
   "metadata": {},
   "outputs": [],
   "source": [
    "samples = np.array(samples)\n",
    "I = samples.dot(h)\n",
    "for i in range(len(I)):\n",
    "    I[i] += np.random.normal(loc=0.0, scale=sigma)"
   ]
  },
  {
   "cell_type": "code",
   "execution_count": 17,
   "metadata": {},
   "outputs": [],
   "source": [
    "prior_probabilities = defaultdict(float)\n",
    "transition_probabilities = np.zeros((2**n, 2**n))\n",
    "clusters = defaultdict(list)\n",
    "cluster_means = defaultdict(float)"
   ]
  },
  {
   "cell_type": "code",
   "execution_count": 18,
   "metadata": {},
   "outputs": [
    {
     "output_type": "stream",
     "name": "stdout",
     "text": [
      "\n\n\nTransition count:\n[[1250118. 1249934.       0.       0.]\n [      0.       0. 1249700. 1250095.]\n [1249934. 1249861.       0.       0.]\n [      0.       0. 1250094. 1250261.]]\n"
     ]
    }
   ],
   "source": [
    "clusters[bin2int(samples[0])].append(I[0])\n",
    "prior_probabilities[bin2int(samples[0])] += 1\n",
    "for i in range(1, len(I)):\n",
    "    prior_probabilities[bin2int(samples[i])] += 1\n",
    "    transition_probabilities[bin2int(samples[i])][bin2int(samples[i - 1])] += 1\n",
    "    clusters[bin2int(samples[i])].append(I[i])\n",
    "\n",
    "print(\"\\n\\n\\nTransition count:\")\n",
    "print(transition_probabilities)\n",
    "\n",
    "transition_probabilities /= transition_probabilities.sum(axis=1, keepdims=True)\n",
    "\n",
    "for i in range(2**n):\n",
    "    cluster_means[i] = (np.average(clusters[i]))\n",
    "\n",
    "for i in range(2**n):\n",
    "    prior_probabilities[i] /= len(I)\n"
   ]
  },
  {
   "cell_type": "code",
   "execution_count": 19,
   "metadata": {},
   "outputs": [
    {
     "output_type": "stream",
     "name": "stdout",
     "text": [
      "\n\n\nPrior probabilities:\n0 \t :\t 0.25\n1 \t :\t 0.25\n2 \t :\t 0.25\n3 \t :\t 0.25\n\n\n\nTransition probabilities:\n0 \t : \t0.50\t0.50\t0.00\t0.00\n1 \t : \t0.00\t0.00\t0.50\t0.50\n2 \t : \t0.50\t0.50\t0.00\t0.00\n3 \t : \t0.00\t0.00\t0.50\t0.50\n\n\n\nObservation means:\n0 \t : \t0.00\n1 \t : \t0.70\n2 \t : \t0.50\n3 \t : \t1.20\n"
     ]
    }
   ],
   "source": [
    "print(\"\\n\\n\\nPrior probabilities:\")\n",
    "for i in range(2**n):\n",
    "    print(i, \"\\t :\\t\",  round(prior_probabilities[i], 2))\n",
    "# print(prior_probabilities)\n",
    "\n",
    "print(\"\\n\\n\\nTransition probabilities:\")\n",
    "for i in range(2**n):\n",
    "    print(i, \"\\t : \", end=\"\")\n",
    "    for j in range(2**n):\n",
    "        print(\"\\t%.2f\" % (transition_probabilities[i][j]), end=\"\")\n",
    "    print(\"\")\n",
    "# print(transition_probabilities)\n",
    "\n",
    "# print(clusters)\n",
    "\n",
    "print(\"\\n\\n\\nObservation means:\")\n",
    "for i in range(2**n):\n",
    "    print(i, \"\\t : \\t%.2f\" %(cluster_means[i]))\n",
    "# print(cluster_means)"
   ]
  },
  {
   "cell_type": "code",
   "execution_count": 21,
   "metadata": {},
   "outputs": [],
   "source": [
    "with open(\"test.txt\") as test_file:\n",
    "    test_bits = list(map(int, test_file.readline()))\n",
    "\n",
    "res = []\n",
    "test_samples = []\n",
    "for i in range(len(test_bits)-n+1):\n",
    "    test_samples.append(test_bits[i:i+n])\n",
    "\n",
    "test_samples = np.array(test_samples)\n",
    "X = test_samples.dot(h)\n",
    "for i in range(len(X)):\n",
    "    X[i] += np.random.normal(loc=0.0, scale=sigma) "
   ]
  },
  {
   "cell_type": "code",
   "execution_count": null,
   "metadata": {},
   "outputs": [],
   "source": []
  }
 ]
}