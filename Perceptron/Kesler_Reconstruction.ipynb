{
 "cells": [
  {
   "cell_type": "markdown",
   "metadata": {},
   "source": [
    "In the fourth week, we have to go with a input system and face an online on linear classifier.\n",
    "In the first line there are three numbers : Number of features, Number of classes and Number of samples."
   ]
  },
  {
   "cell_type": "code",
   "execution_count": 9,
   "metadata": {},
   "outputs": [],
   "source": [
    "import numpy as np\n",
    "import math\n",
    "import matplotlib.pyplot as plt "
   ]
  },
  {
   "cell_type": "markdown",
   "metadata": {},
   "source": [
    "Function for loading data from file"
   ]
  },
  {
   "cell_type": "code",
   "execution_count": 10,
   "metadata": {},
   "outputs": [],
   "source": [
    "\n",
    "features=0\n",
    "classes=0\n",
    "samples=0\n",
    "\n",
    "def data_loader(filename,isTrainData):\n",
    "    # open data file\n",
    "    file = open(\"Data_files/\"+filename,\"r\")\n",
    "\n",
    "\n",
    "    # initialize\n",
    "    i=0\n",
    "    global features\n",
    "    global classes\n",
    "    global samples\n",
    "\n",
    "\n",
    "    listx = []\n",
    "    listy = []\n",
    "\n",
    "    for line in file:\n",
    "        # for the first line\n",
    "        if(i==0 and isTrainData==1):\n",
    "            fields = line.split()\n",
    "\n",
    "            features = int(fields[0])\n",
    "            classes = int(fields[1])\n",
    "            samples = int(fields[2])\n",
    "        # for the rest of the line\n",
    "        else:\n",
    "            fields = line.split()\n",
    "            templist = []\n",
    "\n",
    "            for j in range(features):\n",
    "                #print(fields[j])\n",
    "                templist.append(float(fields[j]))\n",
    "\n",
    "            listx.append(templist)\n",
    "            listy.append(int(fields[features]))\n",
    "\n",
    "        i = i+1\n",
    "\n",
    "    #print(str(features)+\" \"+str(classes)+\" \"+str(samples))\n",
    "\n",
    "    # convert into numpy array\n",
    "    x = np.array(listx)\n",
    "    y = np.array(listy)\n",
    "\n",
    "    #print(x.shape, y.shape)\n",
    "    \n",
    "    return x,y\n",
    ""
   ]
  },
  {
   "cell_type": "markdown",
   "metadata": {},
   "source": [
    "Load train data"
   ]
  },
  {
   "cell_type": "code",
   "execution_count": 11,
   "metadata": {
    "scrolled": true,
    "tags": []
   },
   "outputs": [
    {
     "output_type": "stream",
     "name": "stdout",
     "text": "(300, 3) (300,)\n"
    }
   ],
   "source": [
    "train_x,train_y =  data_loader(\"MultiTrain.txt\",1)\n",
    "print(train_x.shape,train_y.shape)"
   ]
  },
  {
   "cell_type": "markdown",
   "metadata": {},
   "source": [
    "Load test data"
   ]
  },
  {
   "cell_type": "code",
   "execution_count": 12,
   "metadata": {
    "scrolled": false,
    "tags": []
   },
   "outputs": [
    {
     "output_type": "stream",
     "name": "stdout",
     "text": "(300, 3) (300,)\n"
    }
   ],
   "source": [
    "test_x,test_y =  data_loader(\"MultiTest.txt\",0)\n",
    "print(test_x.shape,test_y.shape)"
   ]
  },
  {
   "cell_type": "markdown",
   "metadata": {},
   "source": [
    "Take random weights and bias and train data by basic parceptron"
   ]
  },
  {
   "cell_type": "code",
   "execution_count": 13,
   "metadata": {
    "tags": []
   },
   "outputs": [
    {
     "output_type": "stream",
     "name": "stdout",
     "text": "[0. 0. 0. 0. 0. 0. 0. 0. 0. 0. 0. 0.]\n"
    }
   ],
   "source": [
    "# np.random.seed(100)\n",
    "# weight = []\n",
    "# for i in range(classes):\n",
    "#     w_temp = np.random.rand(features+1)\n",
    "#     weight.append(w_temp)\n",
    "# print(weight)\n",
    "# print(len(weight))\n",
    "\n",
    "w = np.zeros(classes*(features+1))\n",
    "# for i in range(classes):\n",
    "#     w_temp = weight[i]\n",
    "#     for j in range(features+1):\n",
    "#         w[i*classes+j+i] = w_temp[j]\n",
    "print(w)"
   ]
  },
  {
   "cell_type": "markdown",
   "metadata": {},
   "source": [
    "Find accuracy from test data"
   ]
  },
  {
   "cell_type": "code",
   "execution_count": 14,
   "metadata": {
    "tags": []
   },
   "outputs": [
    {
     "output_type": "stream",
     "name": "stdout",
     "text": "600\n"
    }
   ],
   "source": [
    "x = []\n",
    "for i in range(samples):\n",
    "    sample_class = train_y[i]\n",
    "    #print(sample_class)\n",
    "    for j in range(classes):\n",
    "        if j == sample_class-1:\n",
    "            continue\n",
    "        #print(j)\n",
    "        x_temp = np.zeros(classes*(features+1))\n",
    "        for k in range(classes):\n",
    "            \n",
    "            if k == sample_class-1:\n",
    "                for l in range(features):\n",
    "                    x_temp[(k)*classes+l+k] = train_x[i][l]\n",
    "                x_temp[(k)*classes+features+k]=1\n",
    "            if k == j:\n",
    "                for l in range(features):\n",
    "                    x_temp[(k)*classes+l+k] = -train_x[i][l]\n",
    "                x_temp[(k)*classes+features+k]=-1\n",
    "        #print(x_temp)\n",
    "        x.append(x_temp)\n",
    "print(len(x))\n",
    ""
   ]
  },
  {
   "cell_type": "markdown",
   "metadata": {},
   "source": [
    "Train data"
   ]
  },
  {
   "cell_type": "code",
   "execution_count": 15,
   "metadata": {
    "tags": []
   },
   "outputs": [
    {
     "output_type": "stream",
     "name": "stdout",
     "text": "11\n"
    }
   ],
   "source": [
    "iteration = 0\n",
    "max_iteration = 500\n",
    "learning_rate = 1\n",
    "while True:\n",
    "    if iteration >= max_iteration:\n",
    "        break\n",
    "    iteration +=1\n",
    "    false = 0\n",
    "\n",
    "    #print(w)\n",
    "    for i in range(len(x)):\n",
    "        #print(x[i])\n",
    "        value  = x[i].dot(w)\n",
    "        #print(value)\n",
    "        if(value <= 0):\n",
    "            false += 1\n",
    "            w = w + learning_rate*x[i]\n",
    "            #print(w)\n",
    "    if false == 0:\n",
    "        break\n",
    "print(iteration)"
   ]
  },
  {
   "cell_type": "code",
   "execution_count": 16,
   "metadata": {
    "tags": []
   },
   "outputs": [
    {
     "output_type": "stream",
     "name": "stdout",
     "text": "Test sample no #100 : [8.5839 8.8262 5.9282]\nTest sample no #101 : [17.5285  1.418  12.2175]\nTest sample no #200 : [15.1319  0.9429 12.279 ]\nTest sample no #201 : [1.8164 4.9567 1.9919]\nAccuracy : 98.66666666666667\n"
    }
   ],
   "source": [
    "correct = 0\n",
    "current_pred  = test_y.copy()\n",
    "\n",
    "weight = []\n",
    "\n",
    "for i in range(classes):\n",
    "    w_temp = []\n",
    "    for j in range(features+1):\n",
    "        w_temp.append(w[i*classes+j+i])\n",
    "    weight.append(w_temp)\n",
    "#print(weight)\n",
    "\n",
    "for i in range(samples):\n",
    "    values = []\n",
    "    for j in range(classes):\n",
    "        value = weight[j][features]\n",
    "        for k in range(features):\n",
    "            value += weight[j][k]*test_x[i][k]\n",
    "        values.append(value)\n",
    "    #print(values)\n",
    "    current_pred[i] = 1+ values.index(max(values)) \n",
    "        \n",
    "for i in range(samples):\n",
    "    if current_pred[i] == test_y[i]:\n",
    "        correct = correct + 1\n",
    "    else:\n",
    "        print(\"Test sample no #\"+str(i+1)+\" : \"+str(test_x[i]))\n",
    "\n",
    "print(\"Accuracy : \"+str((correct/samples)*100))"
   ]
  }
 ],
 "metadata": {
  "kernelspec": {
   "display_name": "Python 3",
   "language": "python",
   "name": "python3"
  },
  "language_info": {
   "codemirror_mode": {
    "name": "ipython",
    "version": 3
   },
   "file_extension": ".py",
   "mimetype": "text/x-python",
   "name": "python",
   "nbconvert_exporter": "python",
   "pygments_lexer": "ipython3",
   "version": "3.7.3-final"
  }
 },
 "nbformat": 4,
 "nbformat_minor": 2
}